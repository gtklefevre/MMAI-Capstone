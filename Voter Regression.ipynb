{
 "cells": [
  {
   "cell_type": "code",
   "execution_count": 1,
   "metadata": {},
   "outputs": [],
   "source": [
    "# Load Packages\n",
    "\n",
    "import matplotlib.pyplot as plt\n",
    "import pandas as pd\n",
    "import datetime as dt\n",
    "import os\n",
    "import numpy as np\n",
    "import os\n",
    "import itertools\n",
    "import copy\n",
    "import datetime, time\n",
    "import sklearn\n",
    "import random\n",
    "import scipy\n",
    "import statsmodels.api as sm\n",
    "import pylab as pl\n",
    "\n",
    "from pandas import Series, DataFrame\n",
    "from scipy.stats import spearmanr\n",
    "from pylab import rcParams\n",
    "from sklearn.preprocessing import scale\n",
    "from sklearn.preprocessing import StandardScaler\n",
    "from sklearn.linear_model import LogisticRegression\n",
    "from sklearn.model_selection import train_test_split\n",
    "from sklearn.model_selection import cross_val_score\n",
    "from sklearn import metrics\n",
    "from sklearn import preprocessing\n",
    "from sklearn.metrics import accuracy_score \n",
    "from sklearn.preprocessing import StandardScaler\n",
    "from sklearn.metrics import roc_auc_score\n",
    "from sklearn.metrics import classification_report\n",
    "from sklearn.preprocessing import scale\n",
    "from sklearn.metrics import confusion_matrix\n",
    "from sklearn.linear_model import Lasso\n",
    "from sklearn.feature_selection import mutual_info_classif\n",
    "from sklearn.metrics import roc_curve\n",
    "from sklearn.model_selection import cross_val_score\n",
    "from imblearn.over_sampling import SMOTE\n",
    "from timeit import default_timer as timer\n",
    "from sklearn.preprocessing import MinMaxScaler\n",
    "from numpy import array "
   ]
  },
  {
   "cell_type": "code",
   "execution_count": 2,
   "metadata": {},
   "outputs": [],
   "source": [
    "#Import Dataset\n",
    "\n",
    "filename = '/Users/Geoff/Desktop/MMAI/CAPSTONE/aragon-all-votes_outcome feature_excelv4.csv'\n",
    "df = pd.read_csv(filename)"
   ]
  },
  {
   "cell_type": "code",
   "execution_count": 3,
   "metadata": {},
   "outputs": [],
   "source": [
    "#Prepare data\n",
    "\n",
    "df['vote'] = df['vote'].eq('Yes').astype(int)\n",
    "df['Result'] = df['Result'].eq('Yes').astype(int)\n",
    "df['timestamp'] =  pd.to_datetime(df['timestamp'], format='%Y-%m-%dT%H:%M:%S.%f')\n",
    "df['timestamp'] = df['timestamp'].values.astype(np.float)"
   ]
  },
  {
   "cell_type": "code",
   "execution_count": 4,
   "metadata": {},
   "outputs": [
    {
     "name": "stdout",
     "output_type": "stream",
     "text": [
      "<class 'pandas.core.groupby.groupby.DataFrameGroupBy'>\n"
     ]
    }
   ],
   "source": [
    "#Normalise data across votes\n",
    "\n",
    "#group by vote \n",
    "df_vote  = df.groupby('voting_number')\n",
    "print(type(df_vote))\n",
    "\n",
    "#normalise timestamps and stake amount across groups\n",
    "df['timestamp_norm'] = df.groupby('voting_number')['timestamp'].apply(lambda x: (x-x.min())/(x.max()-x.min()))\n",
    "df['staked_norm'] = df.groupby('voting_number')['staked_ANT_amount'].apply(lambda x: (x-x.min())/(x.max()-x.min()))"
   ]
  },
  {
   "cell_type": "code",
   "execution_count": 5,
   "metadata": {},
   "outputs": [
    {
     "data": {
      "text/plain": [
       "<matplotlib.axes._subplots.AxesSubplot at 0x1c1d1b1668>"
      ]
     },
     "execution_count": 5,
     "metadata": {},
     "output_type": "execute_result"
    },
    {
     "data": {
      "image/png": "[encoded data removed]",
      "text/plain": [
       "<Figure size 432x288 with 1 Axes>"
      ]
     },
     "metadata": {
      "needs_background": "light"
     },
     "output_type": "display_data"
    }
   ],
   "source": [
    "#Plot Data\n",
    "df.plot(x='timestamp_norm', y='staked_norm', style='o')"
   ]
  },
  {
   "cell_type": "code",
   "execution_count": 6,
   "metadata": {},
   "outputs": [],
   "source": [
    "# df['norm_vote'] = np.multiply(df['Vote Weight'], df['staked_norm'])"
   ]
  },
  {
   "cell_type": "code",
   "execution_count": 7,
   "metadata": {},
   "outputs": [
    {
     "data": {
      "text/html": [
       "<div>\n",
       "<style scoped>\n",
       "    .dataframe tbody tr th:only-of-type {\n",
       "        vertical-align: middle;\n",
       "    }\n",
       "\n",
       "    .dataframe tbody tr th {\n",
       "        vertical-align: top;\n",
       "    }\n",
       "\n",
       "    .dataframe thead th {\n",
       "        text-align: right;\n",
       "    }\n",
       "</style>\n",
       "<table border=\"1\" class=\"dataframe\">\n",
       "  <thead>\n",
       "    <tr style=\"text-align: right;\">\n",
       "      <th></th>\n",
       "      <th>voting_number</th>\n",
       "      <th>timestamp</th>\n",
       "      <th>voter</th>\n",
       "      <th>vote</th>\n",
       "      <th>staked_ANT_amount</th>\n",
       "      <th>tx</th>\n",
       "      <th>Vote Weight</th>\n",
       "      <th>Result</th>\n",
       "      <th>cluster</th>\n",
       "      <th>timestamp_norm</th>\n",
       "      <th>staked_norm</th>\n",
       "    </tr>\n",
       "  </thead>\n",
       "  <tbody>\n",
       "    <tr>\n",
       "      <th>0</th>\n",
       "      <td>0</td>\n",
       "      <td>1.548288e+18</td>\n",
       "      <td>0x17d38262ceb5317af645a246b0ce6fc4cc3088f6</td>\n",
       "      <td>1</td>\n",
       "      <td>249.980000</td>\n",
       "      <td>0x7bffb2e0cf5e1a73bea38565d25821418344269bd144...</td>\n",
       "      <td>1</td>\n",
       "      <td>1</td>\n",
       "      <td>3</td>\n",
       "      <td>0.000000</td>\n",
       "      <td>0.000131</td>\n",
       "    </tr>\n",
       "    <tr>\n",
       "      <th>1</th>\n",
       "      <td>0</td>\n",
       "      <td>1.548293e+18</td>\n",
       "      <td>0x2b5afa7a939e475a327c763f725d88e8a92ce342</td>\n",
       "      <td>1</td>\n",
       "      <td>1510.761544</td>\n",
       "      <td>0x51947df002e5ac8bb2928e083dfd5d57b9e2ac0bee26...</td>\n",
       "      <td>1</td>\n",
       "      <td>1</td>\n",
       "      <td>3</td>\n",
       "      <td>0.028919</td>\n",
       "      <td>0.000790</td>\n",
       "    </tr>\n",
       "    <tr>\n",
       "      <th>2</th>\n",
       "      <td>0</td>\n",
       "      <td>1.548298e+18</td>\n",
       "      <td>0x839395e20bbb182fa440d08f850e6c7a8f6f0780</td>\n",
       "      <td>1</td>\n",
       "      <td>2987.342012</td>\n",
       "      <td>0x3b62bc58824723f7507f4dfd33b7a9e3ff941a6f7cad...</td>\n",
       "      <td>1</td>\n",
       "      <td>1</td>\n",
       "      <td>3</td>\n",
       "      <td>0.059519</td>\n",
       "      <td>0.001561</td>\n",
       "    </tr>\n",
       "    <tr>\n",
       "      <th>3</th>\n",
       "      <td>0</td>\n",
       "      <td>1.548299e+18</td>\n",
       "      <td>0xd472fa32294977196b9ad47e7865e0d737220e32</td>\n",
       "      <td>1</td>\n",
       "      <td>5602.726497</td>\n",
       "      <td>0xac26a765b069f9db78c532e07889599e2c855ec9c36b...</td>\n",
       "      <td>1</td>\n",
       "      <td>1</td>\n",
       "      <td>3</td>\n",
       "      <td>0.069232</td>\n",
       "      <td>0.002929</td>\n",
       "    </tr>\n",
       "    <tr>\n",
       "      <th>4</th>\n",
       "      <td>0</td>\n",
       "      <td>1.548299e+18</td>\n",
       "      <td>0xd472fa32294977196b9ad47e7865e0d737220e32</td>\n",
       "      <td>1</td>\n",
       "      <td>5602.726497</td>\n",
       "      <td>0x7a620bf8e4f80c0646e2cec6bd9cba108a29e8c17c68...</td>\n",
       "      <td>1</td>\n",
       "      <td>1</td>\n",
       "      <td>3</td>\n",
       "      <td>0.069483</td>\n",
       "      <td>0.002929</td>\n",
       "    </tr>\n",
       "  </tbody>\n",
       "</table>\n",
       "</div>"
      ],
      "text/plain": [
       "   voting_number     timestamp                                       voter  \\\n",
       "0              0  1.548288e+18  0x17d38262ceb5317af645a246b0ce6fc4cc3088f6   \n",
       "1              0  1.548293e+18  0x2b5afa7a939e475a327c763f725d88e8a92ce342   \n",
       "2              0  1.548298e+18  0x839395e20bbb182fa440d08f850e6c7a8f6f0780   \n",
       "3              0  1.548299e+18  0xd472fa32294977196b9ad47e7865e0d737220e32   \n",
       "4              0  1.548299e+18  0xd472fa32294977196b9ad47e7865e0d737220e32   \n",
       "\n",
       "   vote  staked_ANT_amount                                                 tx  \\\n",
       "0     1         249.980000  0x7bffb2e0cf5e1a73bea38565d25821418344269bd144...   \n",
       "1     1        1510.761544  0x51947df002e5ac8bb2928e083dfd5d57b9e2ac0bee26...   \n",
       "2     1        2987.342012  0x3b62bc58824723f7507f4dfd33b7a9e3ff941a6f7cad...   \n",
       "3     1        5602.726497  0xac26a765b069f9db78c532e07889599e2c855ec9c36b...   \n",
       "4     1        5602.726497  0x7a620bf8e4f80c0646e2cec6bd9cba108a29e8c17c68...   \n",
       "\n",
       "   Vote Weight  Result  cluster  timestamp_norm  staked_norm  \n",
       "0            1       1        3        0.000000     0.000131  \n",
       "1            1       1        3        0.028919     0.000790  \n",
       "2            1       1        3        0.059519     0.001561  \n",
       "3            1       1        3        0.069232     0.002929  \n",
       "4            1       1        3        0.069483     0.002929  "
      ]
     },
     "execution_count": 7,
     "metadata": {},
     "output_type": "execute_result"
    }
   ],
   "source": [
    "df.head()"
   ]
  },
  {
   "cell_type": "code",
   "execution_count": 8,
   "metadata": {},
   "outputs": [
    {
     "data": {
      "text/html": [
       "<div>\n",
       "<style scoped>\n",
       "    .dataframe tbody tr th:only-of-type {\n",
       "        vertical-align: middle;\n",
       "    }\n",
       "\n",
       "    .dataframe tbody tr th {\n",
       "        vertical-align: top;\n",
       "    }\n",
       "\n",
       "    .dataframe thead th {\n",
       "        text-align: right;\n",
       "    }\n",
       "</style>\n",
       "<table border=\"1\" class=\"dataframe\">\n",
       "  <thead>\n",
       "    <tr style=\"text-align: right;\">\n",
       "      <th></th>\n",
       "      <th>voting_number</th>\n",
       "      <th>timestamp</th>\n",
       "      <th>voter</th>\n",
       "      <th>vote</th>\n",
       "      <th>staked_ANT_amount</th>\n",
       "      <th>tx</th>\n",
       "      <th>Vote Weight</th>\n",
       "      <th>Result</th>\n",
       "      <th>cluster</th>\n",
       "      <th>timestamp_norm</th>\n",
       "      <th>staked_norm</th>\n",
       "    </tr>\n",
       "  </thead>\n",
       "  <tbody>\n",
       "    <tr>\n",
       "      <th>634</th>\n",
       "      <td>15</td>\n",
       "      <td>1.556303e+18</td>\n",
       "      <td>0xbfc7cae0fad9b346270ae8fde24827d2d779ef07</td>\n",
       "      <td>0</td>\n",
       "      <td>218.40815</td>\n",
       "      <td>0xb57db8c2008420bc67eb2908c2a9caef201e8abcba5d...</td>\n",
       "      <td>-1</td>\n",
       "      <td>1</td>\n",
       "      <td>1</td>\n",
       "      <td>0.564496</td>\n",
       "      <td>0.000276</td>\n",
       "    </tr>\n",
       "    <tr>\n",
       "      <th>635</th>\n",
       "      <td>15</td>\n",
       "      <td>1.556312e+18</td>\n",
       "      <td>0x662127bf82b794a26b7ddb6b495f6a5a20b81738</td>\n",
       "      <td>1</td>\n",
       "      <td>1.00000</td>\n",
       "      <td>0x25a15b7d06e559a93d6719f3399b0b5927c54774862b...</td>\n",
       "      <td>1</td>\n",
       "      <td>1</td>\n",
       "      <td>1</td>\n",
       "      <td>0.619211</td>\n",
       "      <td>0.000001</td>\n",
       "    </tr>\n",
       "    <tr>\n",
       "      <th>636</th>\n",
       "      <td>15</td>\n",
       "      <td>1.556369e+18</td>\n",
       "      <td>0x8b6a9b7c8d8ed99ff02314f779f5a1b7e8474548</td>\n",
       "      <td>1</td>\n",
       "      <td>20000.00000</td>\n",
       "      <td>0x6cbfacf247cc2b1ac87e791d78de6ed05790b2681023...</td>\n",
       "      <td>1</td>\n",
       "      <td>1</td>\n",
       "      <td>2</td>\n",
       "      <td>0.963708</td>\n",
       "      <td>0.025246</td>\n",
       "    </tr>\n",
       "    <tr>\n",
       "      <th>637</th>\n",
       "      <td>15</td>\n",
       "      <td>1.556373e+18</td>\n",
       "      <td>0xd8265cc1d176a0d734834a0f60d9d2d53bae66f6</td>\n",
       "      <td>1</td>\n",
       "      <td>792191.00000</td>\n",
       "      <td>0x7f92999ef067bb194d92699c6faf3c0111d9791bafdd...</td>\n",
       "      <td>1</td>\n",
       "      <td>1</td>\n",
       "      <td>0</td>\n",
       "      <td>0.984339</td>\n",
       "      <td>1.000000</td>\n",
       "    </tr>\n",
       "    <tr>\n",
       "      <th>638</th>\n",
       "      <td>15</td>\n",
       "      <td>1.556375e+18</td>\n",
       "      <td>0x1dffdb114e58baedbd25290a1efffa9fc3726d1f</td>\n",
       "      <td>1</td>\n",
       "      <td>3000.00000</td>\n",
       "      <td>0x6181d270f8d2d022fd5d7bee74ead729255d568e21a3...</td>\n",
       "      <td>1</td>\n",
       "      <td>1</td>\n",
       "      <td>2</td>\n",
       "      <td>1.000000</td>\n",
       "      <td>0.003787</td>\n",
       "    </tr>\n",
       "  </tbody>\n",
       "</table>\n",
       "</div>"
      ],
      "text/plain": [
       "     voting_number     timestamp                                       voter  \\\n",
       "634             15  1.556303e+18  0xbfc7cae0fad9b346270ae8fde24827d2d779ef07   \n",
       "635             15  1.556312e+18  0x662127bf82b794a26b7ddb6b495f6a5a20b81738   \n",
       "636             15  1.556369e+18  0x8b6a9b7c8d8ed99ff02314f779f5a1b7e8474548   \n",
       "637             15  1.556373e+18  0xd8265cc1d176a0d734834a0f60d9d2d53bae66f6   \n",
       "638             15  1.556375e+18  0x1dffdb114e58baedbd25290a1efffa9fc3726d1f   \n",
       "\n",
       "     vote  staked_ANT_amount  \\\n",
       "634     0          218.40815   \n",
       "635     1            1.00000   \n",
       "636     1        20000.00000   \n",
       "637     1       792191.00000   \n",
       "638     1         3000.00000   \n",
       "\n",
       "                                                    tx  Vote Weight  Result  \\\n",
       "634  0xb57db8c2008420bc67eb2908c2a9caef201e8abcba5d...           -1       1   \n",
       "635  0x25a15b7d06e559a93d6719f3399b0b5927c54774862b...            1       1   \n",
       "636  0x6cbfacf247cc2b1ac87e791d78de6ed05790b2681023...            1       1   \n",
       "637  0x7f92999ef067bb194d92699c6faf3c0111d9791bafdd...            1       1   \n",
       "638  0x6181d270f8d2d022fd5d7bee74ead729255d568e21a3...            1       1   \n",
       "\n",
       "     cluster  timestamp_norm  staked_norm  \n",
       "634        1        0.564496     0.000276  \n",
       "635        1        0.619211     0.000001  \n",
       "636        2        0.963708     0.025246  \n",
       "637        0        0.984339     1.000000  \n",
       "638        2        1.000000     0.003787  "
      ]
     },
     "execution_count": 8,
     "metadata": {},
     "output_type": "execute_result"
    }
   ],
   "source": [
    "df.tail()"
   ]
  },
  {
   "cell_type": "code",
   "execution_count": 9,
   "metadata": {},
   "outputs": [],
   "source": [
    "#LOGITICS REGRESSION WITHOUT CLUSTERS\n",
    "\n",
    "#dropping unecessary columns \n",
    "df1 = df.drop(['voting_number'], axis = 1)\n",
    "df1 = df1.drop(['timestamp'], axis = 1)\n",
    "df1 = df1.drop(['voter'], axis = 1)\n",
    "df1 = df1.drop(['staked_ANT_amount'], axis = 1)\n",
    "df1 = df1.drop(['tx'], axis = 1)\n",
    "df1 = df1.drop(['Vote Weight'], axis = 1)\n",
    "df1 = df1.drop(['vote'], axis = 1)\n",
    "# df1 = df1.drop(['staked_norm'], axis = 1)\n",
    "df1 = df1.drop(['cluster'], axis = 1)\n"
   ]
  },
  {
   "cell_type": "code",
   "execution_count": 10,
   "metadata": {},
   "outputs": [],
   "source": [
    "#splitting into features and target variable\n",
    "X = df1.drop('Result',axis=1)\n",
    "y = df1['Result']"
   ]
  },
  {
   "cell_type": "code",
   "execution_count": 11,
   "metadata": {},
   "outputs": [
    {
     "data": {
      "text/html": [
       "<div>\n",
       "<style scoped>\n",
       "    .dataframe tbody tr th:only-of-type {\n",
       "        vertical-align: middle;\n",
       "    }\n",
       "\n",
       "    .dataframe tbody tr th {\n",
       "        vertical-align: top;\n",
       "    }\n",
       "\n",
       "    .dataframe thead th {\n",
       "        text-align: right;\n",
       "    }\n",
       "</style>\n",
       "<table border=\"1\" class=\"dataframe\">\n",
       "  <thead>\n",
       "    <tr style=\"text-align: right;\">\n",
       "      <th></th>\n",
       "      <th>Result</th>\n",
       "      <th>timestamp_norm</th>\n",
       "      <th>staked_norm</th>\n",
       "    </tr>\n",
       "  </thead>\n",
       "  <tbody>\n",
       "    <tr>\n",
       "      <th>0</th>\n",
       "      <td>1</td>\n",
       "      <td>0.000000</td>\n",
       "      <td>0.000131</td>\n",
       "    </tr>\n",
       "    <tr>\n",
       "      <th>1</th>\n",
       "      <td>1</td>\n",
       "      <td>0.028919</td>\n",
       "      <td>0.000790</td>\n",
       "    </tr>\n",
       "    <tr>\n",
       "      <th>2</th>\n",
       "      <td>1</td>\n",
       "      <td>0.059519</td>\n",
       "      <td>0.001561</td>\n",
       "    </tr>\n",
       "    <tr>\n",
       "      <th>3</th>\n",
       "      <td>1</td>\n",
       "      <td>0.069232</td>\n",
       "      <td>0.002929</td>\n",
       "    </tr>\n",
       "    <tr>\n",
       "      <th>4</th>\n",
       "      <td>1</td>\n",
       "      <td>0.069483</td>\n",
       "      <td>0.002929</td>\n",
       "    </tr>\n",
       "  </tbody>\n",
       "</table>\n",
       "</div>"
      ],
      "text/plain": [
       "   Result  timestamp_norm  staked_norm\n",
       "0       1        0.000000     0.000131\n",
       "1       1        0.028919     0.000790\n",
       "2       1        0.059519     0.001561\n",
       "3       1        0.069232     0.002929\n",
       "4       1        0.069483     0.002929"
      ]
     },
     "execution_count": 11,
     "metadata": {},
     "output_type": "execute_result"
    }
   ],
   "source": [
    "df1.head()"
   ]
  },
  {
   "cell_type": "code",
   "execution_count": 12,
   "metadata": {},
   "outputs": [],
   "source": [
    "#splitting data into testing and training sets\n",
    "X_train, X_test, y_train, y_test = train_test_split(X, y, test_size = 0.2, random_state = 88)"
   ]
  },
  {
   "cell_type": "code",
   "execution_count": 13,
   "metadata": {},
   "outputs": [
    {
     "name": "stdout",
     "output_type": "stream",
     "text": [
      "No. of votes in the X_train dataset:  (511, 2)\n",
      "No. of votes in the y_train dataset:  (511,)\n",
      "No. of votes in the X_test dataset:  (128, 2)\n",
      "No. of votes in the y_test dataset:  (128,)\n",
      "\n",
      "Counts of label '1' before oversampling: 378\n",
      "Counts of label '0' before oversampling: 133 \n",
      "\n"
     ]
    }
   ],
   "source": [
    "#Adapted from code from Neal Gilmore from MMAI Assignment\n",
    "print(\"No. of votes in the X_train dataset: \", X_train.shape)\n",
    "print(\"No. of votes in the y_train dataset: \", y_train.shape)\n",
    "print(\"No. of votes in the X_test dataset: \", X_test.shape)\n",
    "print(\"No. of votes in the y_test dataset: \", y_test.shape)\n",
    "print(\"\\nCounts of label '1' before oversampling: {}\".format(sum(y_train == 1)))\n",
    "print(\"Counts of label '0' before oversampling: {} \\n\".format(sum(y_train == 0)))"
   ]
  },
  {
   "cell_type": "code",
   "execution_count": 14,
   "metadata": {},
   "outputs": [],
   "source": [
    "#Applying SMOTE to oversample data\n",
    "sm = SMOTE(random_state=88, ratio = 1.0)\n",
    "X_train_res, y_train_res = sm.fit_sample(X_train, y_train.ravel())"
   ]
  },
  {
   "cell_type": "code",
   "execution_count": 15,
   "metadata": {},
   "outputs": [
    {
     "name": "stdout",
     "output_type": "stream",
     "text": [
      "Shape of X_train after oversampling: (756, 2)\n",
      "Shape of y_train after oversampling: (756,) \n",
      "\n",
      "Counts of label '1' after oversampling: 378\n",
      "Counts of label '0' after oversampling: 378\n"
     ]
    }
   ],
   "source": [
    "#Adapted from code from Neal Gilmore from MMAI Assignment\n",
    "print('Shape of X_train after oversampling: {}'.format(X_train_res.shape))\n",
    "print('Shape of y_train after oversampling: {} \\n'.format(y_train_res.shape))\n",
    "print(\"Counts of label '1' after oversampling: {}\".format(sum(y_train_res == 1)))\n",
    "print(\"Counts of label '0' after oversampling: {}\".format(sum(y_train_res == 0)))"
   ]
  },
  {
   "cell_type": "code",
   "execution_count": 16,
   "metadata": {},
   "outputs": [],
   "source": [
    "#instantiating Logistic Regression Model\n",
    "reg_all = LogisticRegression(C=1.0, class_weight=None, dual=False, fit_intercept=True,\n",
    "          intercept_scaling=1, max_iter=10000, multi_class='warn',\n",
    "          n_jobs=None, penalty='l2', random_state=None, solver='warn',\n",
    "          tol=0.0001, verbose=0, warm_start=False)"
   ]
  },
  {
   "cell_type": "code",
   "execution_count": 17,
   "metadata": {},
   "outputs": [
    {
     "name": "stderr",
     "output_type": "stream",
     "text": [
      "/anaconda3/lib/python3.7/site-packages/sklearn/linear_model/logistic.py:433: FutureWarning: Default solver will be changed to 'lbfgs' in 0.22. Specify a solver to silence this warning.\n",
      "  FutureWarning)\n"
     ]
    },
    {
     "data": {
      "text/plain": [
       "LogisticRegression(C=1.0, class_weight=None, dual=False, fit_intercept=True,\n",
       "          intercept_scaling=1, max_iter=10000, multi_class='warn',\n",
       "          n_jobs=None, penalty='l2', random_state=None, solver='warn',\n",
       "          tol=0.0001, verbose=0, warm_start=False)"
      ]
     },
     "execution_count": 17,
     "metadata": {},
     "output_type": "execute_result"
    }
   ],
   "source": [
    "#training the model\n",
    "reg_all.fit(X_train_res,y_train_res)"
   ]
  },
  {
   "cell_type": "code",
   "execution_count": 18,
   "metadata": {},
   "outputs": [],
   "source": [
    "#running model on testing set\n",
    "y_pred = reg_all.predict(X_test)"
   ]
  },
  {
   "cell_type": "code",
   "execution_count": 19,
   "metadata": {},
   "outputs": [
    {
     "data": {
      "text/plain": [
       "0.59375"
      ]
     },
     "execution_count": 19,
     "metadata": {},
     "output_type": "execute_result"
    }
   ],
   "source": [
    "#accuracy\n",
    "reg_all.score(X_test,y_test)"
   ]
  },
  {
   "cell_type": "code",
   "execution_count": 20,
   "metadata": {},
   "outputs": [
    {
     "name": "stdout",
     "output_type": "stream",
     "text": [
      "[[19 11]\n",
      " [41 57]]\n"
     ]
    }
   ],
   "source": [
    "#printing confusion matrix\n",
    "print(confusion_matrix(y_test,y_pred))"
   ]
  },
  {
   "cell_type": "code",
   "execution_count": 21,
   "metadata": {},
   "outputs": [
    {
     "name": "stdout",
     "output_type": "stream",
     "text": [
      "              precision    recall  f1-score   support\n",
      "\n",
      "           0       0.32      0.63      0.42        30\n",
      "           1       0.84      0.58      0.69        98\n",
      "\n",
      "   micro avg       0.59      0.59      0.59       128\n",
      "   macro avg       0.58      0.61      0.55       128\n",
      "weighted avg       0.72      0.59      0.62       128\n",
      "\n"
     ]
    }
   ],
   "source": [
    "print(classification_report(y_test,y_pred))"
   ]
  },
  {
   "cell_type": "code",
   "execution_count": 22,
   "metadata": {},
   "outputs": [
    {
     "data": {
      "text/plain": [
       "array([[0.37891396, 0.28598567]])"
      ]
     },
     "execution_count": 22,
     "metadata": {},
     "output_type": "execute_result"
    }
   ],
   "source": [
    "reg_all.coef_"
   ]
  },
  {
   "cell_type": "code",
   "execution_count": 23,
   "metadata": {},
   "outputs": [],
   "source": [
    "#Showing the AUC. Code adapted from Team Greenwood Code submited for a Group Assignment\n",
    "y_pred_prob = reg_all.predict_proba(X_test)[:,1]"
   ]
  },
  {
   "cell_type": "code",
   "execution_count": 24,
   "metadata": {},
   "outputs": [],
   "source": [
    "fpr, tpr, thresholds = roc_curve(y_test, y_pred_prob)"
   ]
  },
  {
   "cell_type": "code",
   "execution_count": 25,
   "metadata": {},
   "outputs": [
    {
     "data": {
      "image/png": "[encoded data removed]",
      "text/plain": [
       "<Figure size 432x288 with 1 Axes>"
      ]
     },
     "metadata": {
      "needs_background": "light"
     },
     "output_type": "display_data"
    }
   ],
   "source": [
    "plt.plot([0,1],[0,1],'k--')\n",
    "\n",
    "plt.plot(fpr,tpr, label ='Logistic Regression')\n",
    "\n",
    "plt.xlabel('False Positive Rate')\n",
    "\n",
    "plt.ylabel('True Positive Rate')\n",
    "\n",
    "plt.title('Logistic Regression ROC Curve')\n",
    "\n",
    "plt.show();"
   ]
  },
  {
   "cell_type": "code",
   "execution_count": 26,
   "metadata": {},
   "outputs": [
    {
     "data": {
      "text/plain": [
       "0.5758503401360544"
      ]
     },
     "execution_count": 26,
     "metadata": {},
     "output_type": "execute_result"
    }
   ],
   "source": [
    "roc_auc_score(y_test, y_pred_prob)"
   ]
  },
  {
   "cell_type": "code",
   "execution_count": 27,
   "metadata": {},
   "outputs": [
    {
     "name": "stderr",
     "output_type": "stream",
     "text": [
      "/anaconda3/lib/python3.7/site-packages/sklearn/linear_model/logistic.py:433: FutureWarning: Default solver will be changed to 'lbfgs' in 0.22. Specify a solver to silence this warning.\n",
      "  FutureWarning)\n",
      "/anaconda3/lib/python3.7/site-packages/sklearn/linear_model/logistic.py:433: FutureWarning: Default solver will be changed to 'lbfgs' in 0.22. Specify a solver to silence this warning.\n",
      "  FutureWarning)\n",
      "/anaconda3/lib/python3.7/site-packages/sklearn/linear_model/logistic.py:433: FutureWarning: Default solver will be changed to 'lbfgs' in 0.22. Specify a solver to silence this warning.\n",
      "  FutureWarning)\n",
      "/anaconda3/lib/python3.7/site-packages/sklearn/linear_model/logistic.py:433: FutureWarning: Default solver will be changed to 'lbfgs' in 0.22. Specify a solver to silence this warning.\n",
      "  FutureWarning)\n",
      "/anaconda3/lib/python3.7/site-packages/sklearn/linear_model/logistic.py:433: FutureWarning: Default solver will be changed to 'lbfgs' in 0.22. Specify a solver to silence this warning.\n",
      "  FutureWarning)\n"
     ]
    }
   ],
   "source": [
    "#cross validation\n",
    "cv_scores = cross_val_score(reg_all, X_test, y_test, cv=5,scoring='roc_auc')"
   ]
  },
  {
   "cell_type": "code",
   "execution_count": 28,
   "metadata": {},
   "outputs": [
    {
     "name": "stdout",
     "output_type": "stream",
     "text": [
      "[0.50833333 0.84166667 0.46666667 0.64035088 0.31578947]\n"
     ]
    }
   ],
   "source": [
    "print(cv_scores)"
   ]
  },
  {
   "cell_type": "code",
   "execution_count": 29,
   "metadata": {},
   "outputs": [
    {
     "name": "stdout",
     "output_type": "stream",
     "text": [
      "Accuracy of Model with Cross Validation is: 55.456140350877206\n"
     ]
    }
   ],
   "source": [
    "#get the mean of each fold \n",
    "print(\"Accuracy of Model with Cross Validation is:\",cv_scores.mean() * 100)"
   ]
  },
  {
   "cell_type": "code",
   "execution_count": 33,
   "metadata": {},
   "outputs": [],
   "source": [
    "##LOGISTIC REGRESSION WITH CLUSTERS\n",
    "#dropping unecessary columns \n",
    "df2 = df.drop(['voting_number'], axis = 1)\n",
    "df2 = df2.drop(['timestamp'], axis = 1)\n",
    "df2 = df2.drop(['vote'], axis = 1)\n",
    "df2 = df2.drop(['staked_ANT_amount'], axis = 1)\n",
    "df2 = df2.drop(['tx'], axis = 1)\n",
    "df2 = df2.drop(['Vote Weight'], axis = 1)\n",
    "df2 = df2.drop(['voter'], axis = 1)\n",
    "# df2 = df2.drop(['staked_norm'], axis = 1)"
   ]
  },
  {
   "cell_type": "code",
   "execution_count": 34,
   "metadata": {},
   "outputs": [],
   "source": [
    "#Label encode voters\n",
    "#df.apply(preprocessing.LabelEncoder().fit_transform(df['voter']))"
   ]
  },
  {
   "cell_type": "code",
   "execution_count": 35,
   "metadata": {},
   "outputs": [
    {
     "data": {
      "text/html": [
       "<div>\n",
       "<style scoped>\n",
       "    .dataframe tbody tr th:only-of-type {\n",
       "        vertical-align: middle;\n",
       "    }\n",
       "\n",
       "    .dataframe tbody tr th {\n",
       "        vertical-align: top;\n",
       "    }\n",
       "\n",
       "    .dataframe thead th {\n",
       "        text-align: right;\n",
       "    }\n",
       "</style>\n",
       "<table border=\"1\" class=\"dataframe\">\n",
       "  <thead>\n",
       "    <tr style=\"text-align: right;\">\n",
       "      <th></th>\n",
       "      <th>Result</th>\n",
       "      <th>cluster</th>\n",
       "      <th>timestamp_norm</th>\n",
       "      <th>staked_norm</th>\n",
       "    </tr>\n",
       "  </thead>\n",
       "  <tbody>\n",
       "    <tr>\n",
       "      <th>0</th>\n",
       "      <td>1</td>\n",
       "      <td>3</td>\n",
       "      <td>0.000000</td>\n",
       "      <td>0.000131</td>\n",
       "    </tr>\n",
       "    <tr>\n",
       "      <th>1</th>\n",
       "      <td>1</td>\n",
       "      <td>3</td>\n",
       "      <td>0.028919</td>\n",
       "      <td>0.000790</td>\n",
       "    </tr>\n",
       "    <tr>\n",
       "      <th>2</th>\n",
       "      <td>1</td>\n",
       "      <td>3</td>\n",
       "      <td>0.059519</td>\n",
       "      <td>0.001561</td>\n",
       "    </tr>\n",
       "    <tr>\n",
       "      <th>3</th>\n",
       "      <td>1</td>\n",
       "      <td>3</td>\n",
       "      <td>0.069232</td>\n",
       "      <td>0.002929</td>\n",
       "    </tr>\n",
       "    <tr>\n",
       "      <th>4</th>\n",
       "      <td>1</td>\n",
       "      <td>3</td>\n",
       "      <td>0.069483</td>\n",
       "      <td>0.002929</td>\n",
       "    </tr>\n",
       "  </tbody>\n",
       "</table>\n",
       "</div>"
      ],
      "text/plain": [
       "   Result  cluster  timestamp_norm  staked_norm\n",
       "0       1        3        0.000000     0.000131\n",
       "1       1        3        0.028919     0.000790\n",
       "2       1        3        0.059519     0.001561\n",
       "3       1        3        0.069232     0.002929\n",
       "4       1        3        0.069483     0.002929"
      ]
     },
     "execution_count": 35,
     "metadata": {},
     "output_type": "execute_result"
    }
   ],
   "source": [
    "df2.head()"
   ]
  },
  {
   "cell_type": "code",
   "execution_count": 36,
   "metadata": {},
   "outputs": [],
   "source": [
    "#splitting into features and target variable\n",
    "X2 = df2.drop('Result',axis=1)\n",
    "y2 = df2['Result']"
   ]
  },
  {
   "cell_type": "code",
   "execution_count": 37,
   "metadata": {},
   "outputs": [],
   "source": [
    "#splitting data into testing and training sets\n",
    "X2_train, X2_test, y2_train, y2_test = train_test_split(X2, y2, test_size = 0.2, random_state = 88)"
   ]
  },
  {
   "cell_type": "code",
   "execution_count": 38,
   "metadata": {},
   "outputs": [
    {
     "name": "stdout",
     "output_type": "stream",
     "text": [
      "No. of votes in the X_train dataset:  (511, 3)\n",
      "No. of votes in the y_train dataset:  (511,)\n",
      "No. of votes in the X_test dataset:  (128, 3)\n",
      "No. of votes in the y_test dataset:  (128,)\n",
      "\n",
      "Counts of label '1' before oversampling: 378\n",
      "Counts of label '0' before oversampling: 133 \n",
      "\n"
     ]
    }
   ],
   "source": [
    "print(\"No. of votes in the X_train dataset: \", X2_train.shape)\n",
    "print(\"No. of votes in the y_train dataset: \", y2_train.shape)\n",
    "print(\"No. of votes in the X_test dataset: \", X2_test.shape)\n",
    "print(\"No. of votes in the y_test dataset: \", y2_test.shape)\n",
    "print(\"\\nCounts of label '1' before oversampling: {}\".format(sum(y_train == 1)))\n",
    "print(\"Counts of label '0' before oversampling: {} \\n\".format(sum(y_train == 0)))"
   ]
  },
  {
   "cell_type": "code",
   "execution_count": 39,
   "metadata": {},
   "outputs": [],
   "source": [
    "#Applying SMOTE to oversample data\n",
    "sm = SMOTE(random_state=88, ratio = 1.0)\n",
    "X2_train_res, y2_train_res = sm.fit_sample(X2_train, y2_train.ravel())"
   ]
  },
  {
   "cell_type": "code",
   "execution_count": 40,
   "metadata": {},
   "outputs": [
    {
     "name": "stdout",
     "output_type": "stream",
     "text": [
      "Shape of X_train after oversampling: (756, 3)\n",
      "Shape of y_train after oversampling: (756,) \n",
      "\n",
      "Counts of label '1' after oversampling: 378\n",
      "Counts of label '0' after oversampling: 378\n"
     ]
    }
   ],
   "source": [
    "print('Shape of X_train after oversampling: {}'.format(X2_train_res.shape))\n",
    "print('Shape of y_train after oversampling: {} \\n'.format(y2_train_res.shape))\n",
    "print(\"Counts of label '1' after oversampling: {}\".format(sum(y2_train_res == 1)))\n",
    "print(\"Counts of label '0' after oversampling: {}\".format(sum(y2_train_res == 0)))"
   ]
  },
  {
   "cell_type": "code",
   "execution_count": 41,
   "metadata": {},
   "outputs": [],
   "source": [
    "#instantiating Logistic Regression Model\n",
    "reg2_all = LogisticRegression(C=1.0, class_weight=None, dual=False, fit_intercept=True,\n",
    "          intercept_scaling=1, max_iter=10000, multi_class='warn',\n",
    "          n_jobs=None, penalty='l2', random_state=None, solver='warn',\n",
    "          tol=0.0001, verbose=0, warm_start=False)"
   ]
  },
  {
   "cell_type": "code",
   "execution_count": 42,
   "metadata": {},
   "outputs": [
    {
     "name": "stderr",
     "output_type": "stream",
     "text": [
      "/anaconda3/lib/python3.7/site-packages/sklearn/linear_model/logistic.py:433: FutureWarning: Default solver will be changed to 'lbfgs' in 0.22. Specify a solver to silence this warning.\n",
      "  FutureWarning)\n"
     ]
    },
    {
     "data": {
      "text/plain": [
       "LogisticRegression(C=1.0, class_weight=None, dual=False, fit_intercept=True,\n",
       "          intercept_scaling=1, max_iter=10000, multi_class='warn',\n",
       "          n_jobs=None, penalty='l2', random_state=None, solver='warn',\n",
       "          tol=0.0001, verbose=0, warm_start=False)"
      ]
     },
     "execution_count": 42,
     "metadata": {},
     "output_type": "execute_result"
    }
   ],
   "source": [
    "#training the model\n",
    "reg2_all.fit(X2_train_res,y2_train_res)"
   ]
  },
  {
   "cell_type": "code",
   "execution_count": 43,
   "metadata": {},
   "outputs": [],
   "source": [
    "#running model on testing set\n",
    "y2_pred = reg2_all.predict(X2_test)"
   ]
  },
  {
   "cell_type": "code",
   "execution_count": 44,
   "metadata": {},
   "outputs": [
    {
     "data": {
      "text/plain": [
       "0.6328125"
      ]
     },
     "execution_count": 44,
     "metadata": {},
     "output_type": "execute_result"
    }
   ],
   "source": [
    "#accuracy\n",
    "reg2_all.score(X2_test,y2_test)"
   ]
  },
  {
   "cell_type": "code",
   "execution_count": 45,
   "metadata": {},
   "outputs": [
    {
     "name": "stdout",
     "output_type": "stream",
     "text": [
      "[[18 12]\n",
      " [35 63]]\n"
     ]
    }
   ],
   "source": [
    "#printing confusion matrix\n",
    "print(confusion_matrix(y2_test,y2_pred))"
   ]
  },
  {
   "cell_type": "code",
   "execution_count": 46,
   "metadata": {},
   "outputs": [
    {
     "name": "stdout",
     "output_type": "stream",
     "text": [
      "              precision    recall  f1-score   support\n",
      "\n",
      "           0       0.34      0.60      0.43        30\n",
      "           1       0.84      0.64      0.73        98\n",
      "\n",
      "   micro avg       0.63      0.63      0.63       128\n",
      "   macro avg       0.59      0.62      0.58       128\n",
      "weighted avg       0.72      0.63      0.66       128\n",
      "\n"
     ]
    }
   ],
   "source": [
    "print(classification_report(y2_test,y2_pred))"
   ]
  },
  {
   "cell_type": "code",
   "execution_count": 47,
   "metadata": {},
   "outputs": [
    {
     "data": {
      "text/plain": [
       "array([[-0.07269748,  0.25132849,  0.24494866]])"
      ]
     },
     "execution_count": 47,
     "metadata": {},
     "output_type": "execute_result"
    }
   ],
   "source": [
    "reg2_all.coef_"
   ]
  },
  {
   "cell_type": "code",
   "execution_count": 48,
   "metadata": {},
   "outputs": [],
   "source": [
    "#Showing the AUC \n",
    "y2_pred_prob = reg2_all.predict_proba(X2_test)[:,1]"
   ]
  },
  {
   "cell_type": "code",
   "execution_count": 49,
   "metadata": {},
   "outputs": [],
   "source": [
    "fpr2, tpr2, thresholds = roc_curve(y2_test, y2_pred_prob)"
   ]
  },
  {
   "cell_type": "code",
   "execution_count": 50,
   "metadata": {},
   "outputs": [
    {
     "data": {
      "image/png": "[encoded data removed]",
      "text/plain": [
       "<Figure size 432x288 with 1 Axes>"
      ]
     },
     "metadata": {
      "needs_background": "light"
     },
     "output_type": "display_data"
    }
   ],
   "source": [
    "plt.plot([0,1],[0,1],'k--')\n",
    "\n",
    "plt.plot(fpr2,tpr2, label ='Logistic Regression')\n",
    "\n",
    "plt.xlabel('False Positive Rate')\n",
    "\n",
    "plt.ylabel('True Positive Rate')\n",
    "\n",
    "plt.title('Logistic Regression ROC Curve')\n",
    "\n",
    "plt.show();"
   ]
  },
  {
   "cell_type": "code",
   "execution_count": 51,
   "metadata": {},
   "outputs": [
    {
     "data": {
      "text/plain": [
       "0.5741496598639456"
      ]
     },
     "execution_count": 51,
     "metadata": {},
     "output_type": "execute_result"
    }
   ],
   "source": [
    "roc_auc_score(y2_test, y2_pred_prob)"
   ]
  },
  {
   "cell_type": "code",
   "execution_count": 52,
   "metadata": {},
   "outputs": [
    {
     "name": "stderr",
     "output_type": "stream",
     "text": [
      "/anaconda3/lib/python3.7/site-packages/sklearn/linear_model/logistic.py:433: FutureWarning: Default solver will be changed to 'lbfgs' in 0.22. Specify a solver to silence this warning.\n",
      "  FutureWarning)\n",
      "/anaconda3/lib/python3.7/site-packages/sklearn/linear_model/logistic.py:433: FutureWarning: Default solver will be changed to 'lbfgs' in 0.22. Specify a solver to silence this warning.\n",
      "  FutureWarning)\n",
      "/anaconda3/lib/python3.7/site-packages/sklearn/linear_model/logistic.py:433: FutureWarning: Default solver will be changed to 'lbfgs' in 0.22. Specify a solver to silence this warning.\n",
      "  FutureWarning)\n",
      "/anaconda3/lib/python3.7/site-packages/sklearn/linear_model/logistic.py:433: FutureWarning: Default solver will be changed to 'lbfgs' in 0.22. Specify a solver to silence this warning.\n",
      "  FutureWarning)\n",
      "/anaconda3/lib/python3.7/site-packages/sklearn/linear_model/logistic.py:433: FutureWarning: Default solver will be changed to 'lbfgs' in 0.22. Specify a solver to silence this warning.\n",
      "  FutureWarning)\n"
     ]
    }
   ],
   "source": [
    "#cross validation\n",
    "cv2_scores = cross_val_score(reg2_all, X2_test, y2_test, cv=5,scoring='roc_auc')"
   ]
  },
  {
   "cell_type": "code",
   "execution_count": 53,
   "metadata": {},
   "outputs": [
    {
     "name": "stdout",
     "output_type": "stream",
     "text": [
      "[0.58333333 0.71666667 0.48333333 0.71929825 0.28070175]\n"
     ]
    }
   ],
   "source": [
    "print(cv2_scores)"
   ]
  },
  {
   "cell_type": "code",
   "execution_count": 54,
   "metadata": {},
   "outputs": [
    {
     "name": "stdout",
     "output_type": "stream",
     "text": [
      "Accuracy of Model with Cross Validation is: 55.666666666666664\n"
     ]
    }
   ],
   "source": [
    "#get the mean of each fold \n",
    "print(\"Accuracy of Model with Cross Validation is:\",cv2_scores.mean() * 100)"
   ]
  },
  {
   "cell_type": "code",
   "execution_count": 57,
   "metadata": {},
   "outputs": [],
   "source": [
    "###Log Regression with voter preference (Yes/NO)\n",
    "\n",
    "df3 = df.drop(['voting_number'], axis = 1)\n",
    "df3 = df3.drop(['timestamp'], axis = 1)\n",
    "df3 = df3.drop(['staked_ANT_amount'], axis = 1)\n",
    "df3 = df3.drop(['tx'], axis = 1)\n",
    "df3 = df3.drop(['Vote Weight'], axis = 1)\n",
    "df3 = df3.drop(['voter'], axis = 1)\n",
    "# df3 = df3.drop(['staked_norm'], axis = 1)"
   ]
  },
  {
   "cell_type": "code",
   "execution_count": 58,
   "metadata": {},
   "outputs": [
    {
     "data": {
      "text/html": [
       "<div>\n",
       "<style scoped>\n",
       "    .dataframe tbody tr th:only-of-type {\n",
       "        vertical-align: middle;\n",
       "    }\n",
       "\n",
       "    .dataframe tbody tr th {\n",
       "        vertical-align: top;\n",
       "    }\n",
       "\n",
       "    .dataframe thead th {\n",
       "        text-align: right;\n",
       "    }\n",
       "</style>\n",
       "<table border=\"1\" class=\"dataframe\">\n",
       "  <thead>\n",
       "    <tr style=\"text-align: right;\">\n",
       "      <th></th>\n",
       "      <th>vote</th>\n",
       "      <th>Result</th>\n",
       "      <th>cluster</th>\n",
       "      <th>timestamp_norm</th>\n",
       "      <th>staked_norm</th>\n",
       "    </tr>\n",
       "  </thead>\n",
       "  <tbody>\n",
       "    <tr>\n",
       "      <th>0</th>\n",
       "      <td>1</td>\n",
       "      <td>1</td>\n",
       "      <td>3</td>\n",
       "      <td>0.000000</td>\n",
       "      <td>0.000131</td>\n",
       "    </tr>\n",
       "    <tr>\n",
       "      <th>1</th>\n",
       "      <td>1</td>\n",
       "      <td>1</td>\n",
       "      <td>3</td>\n",
       "      <td>0.028919</td>\n",
       "      <td>0.000790</td>\n",
       "    </tr>\n",
       "    <tr>\n",
       "      <th>2</th>\n",
       "      <td>1</td>\n",
       "      <td>1</td>\n",
       "      <td>3</td>\n",
       "      <td>0.059519</td>\n",
       "      <td>0.001561</td>\n",
       "    </tr>\n",
       "    <tr>\n",
       "      <th>3</th>\n",
       "      <td>1</td>\n",
       "      <td>1</td>\n",
       "      <td>3</td>\n",
       "      <td>0.069232</td>\n",
       "      <td>0.002929</td>\n",
       "    </tr>\n",
       "    <tr>\n",
       "      <th>4</th>\n",
       "      <td>1</td>\n",
       "      <td>1</td>\n",
       "      <td>3</td>\n",
       "      <td>0.069483</td>\n",
       "      <td>0.002929</td>\n",
       "    </tr>\n",
       "  </tbody>\n",
       "</table>\n",
       "</div>"
      ],
      "text/plain": [
       "   vote  Result  cluster  timestamp_norm  staked_norm\n",
       "0     1       1        3        0.000000     0.000131\n",
       "1     1       1        3        0.028919     0.000790\n",
       "2     1       1        3        0.059519     0.001561\n",
       "3     1       1        3        0.069232     0.002929\n",
       "4     1       1        3        0.069483     0.002929"
      ]
     },
     "execution_count": 58,
     "metadata": {},
     "output_type": "execute_result"
    }
   ],
   "source": [
    "df3.head()"
   ]
  },
  {
   "cell_type": "code",
   "execution_count": 59,
   "metadata": {},
   "outputs": [],
   "source": [
    "#splitting into features and target variable\n",
    "X3 = df3.drop('Result',axis=1)\n",
    "y3 = df3['Result']"
   ]
  },
  {
   "cell_type": "code",
   "execution_count": 60,
   "metadata": {},
   "outputs": [],
   "source": [
    "#splitting data into testing and training sets\n",
    "X3_train, X3_test, y3_train, y3_test = train_test_split(X3, y3, test_size = 0.2, random_state = 88)"
   ]
  },
  {
   "cell_type": "code",
   "execution_count": 61,
   "metadata": {},
   "outputs": [
    {
     "name": "stdout",
     "output_type": "stream",
     "text": [
      "No. of votes in the X_train dataset:  (511, 4)\n",
      "No. of votes in the y_train dataset:  (511,)\n",
      "No. of votes in the X_test dataset:  (128, 4)\n",
      "No. of votes in the y_test dataset:  (128,)\n",
      "\n",
      "Counts of label '1' before oversampling: 378\n",
      "Counts of label '0' before oversampling: 133 \n",
      "\n"
     ]
    }
   ],
   "source": [
    "print(\"No. of votes in the X_train dataset: \", X3_train.shape)\n",
    "print(\"No. of votes in the y_train dataset: \", y3_train.shape)\n",
    "print(\"No. of votes in the X_test dataset: \", X3_test.shape)\n",
    "print(\"No. of votes in the y_test dataset: \", y3_test.shape)\n",
    "print(\"\\nCounts of label '1' before oversampling: {}\".format(sum(y_train == 1)))\n",
    "print(\"Counts of label '0' before oversampling: {} \\n\".format(sum(y_train == 0)))"
   ]
  },
  {
   "cell_type": "code",
   "execution_count": 62,
   "metadata": {},
   "outputs": [],
   "source": [
    "#Applying SMOTE to oversample data\n",
    "sm3 = SMOTE(random_state=88, ratio = 1.0)\n",
    "X3_train_res, y3_train_res = sm.fit_sample(X3_train, y3_train.ravel())"
   ]
  },
  {
   "cell_type": "code",
   "execution_count": 63,
   "metadata": {},
   "outputs": [
    {
     "name": "stdout",
     "output_type": "stream",
     "text": [
      "Shape of X_train after oversampling: (756, 4)\n",
      "Shape of y_train after oversampling: (756,) \n",
      "\n",
      "Counts of label '1' after oversampling: 378\n",
      "Counts of label '0' after oversampling: 378\n"
     ]
    }
   ],
   "source": [
    "print('Shape of X_train after oversampling: {}'.format(X3_train_res.shape))\n",
    "print('Shape of y_train after oversampling: {} \\n'.format(y3_train_res.shape))\n",
    "print(\"Counts of label '1' after oversampling: {}\".format(sum(y3_train_res == 1)))\n",
    "print(\"Counts of label '0' after oversampling: {}\".format(sum(y3_train_res == 0)))"
   ]
  },
  {
   "cell_type": "code",
   "execution_count": 64,
   "metadata": {},
   "outputs": [],
   "source": [
    "#instantiating Logistic Regression Model\n",
    "reg3_all = LogisticRegression(C=1.0, class_weight=None, dual=False, fit_intercept=True,\n",
    "          intercept_scaling=1, max_iter=10000, multi_class='warn',\n",
    "          n_jobs=None, penalty='l2', random_state=None, solver='warn',\n",
    "          tol=0.0001, verbose=0, warm_start=False)"
   ]
  },
  {
   "cell_type": "code",
   "execution_count": 65,
   "metadata": {},
   "outputs": [
    {
     "name": "stderr",
     "output_type": "stream",
     "text": [
      "/anaconda3/lib/python3.7/site-packages/sklearn/linear_model/logistic.py:433: FutureWarning: Default solver will be changed to 'lbfgs' in 0.22. Specify a solver to silence this warning.\n",
      "  FutureWarning)\n"
     ]
    },
    {
     "data": {
      "text/plain": [
       "LogisticRegression(C=1.0, class_weight=None, dual=False, fit_intercept=True,\n",
       "          intercept_scaling=1, max_iter=10000, multi_class='warn',\n",
       "          n_jobs=None, penalty='l2', random_state=None, solver='warn',\n",
       "          tol=0.0001, verbose=0, warm_start=False)"
      ]
     },
     "execution_count": 65,
     "metadata": {},
     "output_type": "execute_result"
    }
   ],
   "source": [
    "#training the model\n",
    "reg3_all.fit(X3_train_res,y3_train_res)"
   ]
  },
  {
   "cell_type": "code",
   "execution_count": 66,
   "metadata": {},
   "outputs": [],
   "source": [
    "#running model on testing set\n",
    "y3_pred = reg3_all.predict(X3_test)"
   ]
  },
  {
   "cell_type": "code",
   "execution_count": 67,
   "metadata": {},
   "outputs": [
    {
     "data": {
      "text/plain": [
       "0.8046875"
      ]
     },
     "execution_count": 67,
     "metadata": {},
     "output_type": "execute_result"
    }
   ],
   "source": [
    "#accuracy\n",
    "reg3_all.score(X3_test,y3_test)"
   ]
  },
  {
   "cell_type": "code",
   "execution_count": 68,
   "metadata": {},
   "outputs": [
    {
     "name": "stdout",
     "output_type": "stream",
     "text": [
      "[[19 11]\n",
      " [14 84]]\n"
     ]
    }
   ],
   "source": [
    "#printing confusion matrix\n",
    "print(confusion_matrix(y3_test,y3_pred))"
   ]
  },
  {
   "cell_type": "code",
   "execution_count": 69,
   "metadata": {},
   "outputs": [
    {
     "name": "stdout",
     "output_type": "stream",
     "text": [
      "              precision    recall  f1-score   support\n",
      "\n",
      "           0       0.58      0.63      0.60        30\n",
      "           1       0.88      0.86      0.87        98\n",
      "\n",
      "   micro avg       0.80      0.80      0.80       128\n",
      "   macro avg       0.73      0.75      0.74       128\n",
      "weighted avg       0.81      0.80      0.81       128\n",
      "\n"
     ]
    }
   ],
   "source": [
    "print(classification_report(y3_test,y3_pred))"
   ]
  },
  {
   "cell_type": "code",
   "execution_count": 70,
   "metadata": {},
   "outputs": [
    {
     "data": {
      "text/plain": [
       "array([[ 1.50784329, -0.15893665,  0.1481658 ,  0.44416883]])"
      ]
     },
     "execution_count": 70,
     "metadata": {},
     "output_type": "execute_result"
    }
   ],
   "source": [
    "reg3_all.coef_"
   ]
  },
  {
   "cell_type": "code",
   "execution_count": 71,
   "metadata": {},
   "outputs": [],
   "source": [
    "#Showing the AUC \n",
    "y3_pred_prob = reg3_all.predict_proba(X3_test)[:,1]"
   ]
  },
  {
   "cell_type": "code",
   "execution_count": 72,
   "metadata": {},
   "outputs": [],
   "source": [
    "fpr3, tpr3, thresholds = roc_curve(y3_test, y3_pred_prob)"
   ]
  },
  {
   "cell_type": "code",
   "execution_count": 73,
   "metadata": {},
   "outputs": [
    {
     "data": {
      "image/png": "[encoded data removed]",
      "text/plain": [
       "<Figure size 432x288 with 1 Axes>"
      ]
     },
     "metadata": {
      "needs_background": "light"
     },
     "output_type": "display_data"
    }
   ],
   "source": [
    "plt.plot([0,1],[0,1],'k--')\n",
    "\n",
    "plt.plot(fpr3,tpr3, label ='Logistic Regression')\n",
    "\n",
    "plt.xlabel('False Positive Rate')\n",
    "\n",
    "plt.ylabel('True Positive Rate')\n",
    "\n",
    "plt.title('Logistic Regression ROC Curve')\n",
    "\n",
    "plt.show();"
   ]
  },
  {
   "cell_type": "code",
   "execution_count": 74,
   "metadata": {},
   "outputs": [
    {
     "data": {
      "text/plain": [
       "0.7863945578231292"
      ]
     },
     "execution_count": 74,
     "metadata": {},
     "output_type": "execute_result"
    }
   ],
   "source": [
    "roc_auc_score(y3_test, y3_pred_prob)"
   ]
  },
  {
   "cell_type": "code",
   "execution_count": 75,
   "metadata": {},
   "outputs": [
    {
     "name": "stderr",
     "output_type": "stream",
     "text": [
      "/anaconda3/lib/python3.7/site-packages/sklearn/linear_model/logistic.py:433: FutureWarning: Default solver will be changed to 'lbfgs' in 0.22. Specify a solver to silence this warning.\n",
      "  FutureWarning)\n",
      "/anaconda3/lib/python3.7/site-packages/sklearn/linear_model/logistic.py:433: FutureWarning: Default solver will be changed to 'lbfgs' in 0.22. Specify a solver to silence this warning.\n",
      "  FutureWarning)\n",
      "/anaconda3/lib/python3.7/site-packages/sklearn/linear_model/logistic.py:433: FutureWarning: Default solver will be changed to 'lbfgs' in 0.22. Specify a solver to silence this warning.\n",
      "  FutureWarning)\n",
      "/anaconda3/lib/python3.7/site-packages/sklearn/linear_model/logistic.py:433: FutureWarning: Default solver will be changed to 'lbfgs' in 0.22. Specify a solver to silence this warning.\n",
      "  FutureWarning)\n",
      "/anaconda3/lib/python3.7/site-packages/sklearn/linear_model/logistic.py:433: FutureWarning: Default solver will be changed to 'lbfgs' in 0.22. Specify a solver to silence this warning.\n",
      "  FutureWarning)\n"
     ]
    }
   ],
   "source": [
    "#cross validation\n",
    "cv3_scores = cross_val_score(reg3_all, X3_test, y3_test, cv=5,scoring='roc_auc')"
   ]
  },
  {
   "cell_type": "code",
   "execution_count": 76,
   "metadata": {},
   "outputs": [
    {
     "name": "stdout",
     "output_type": "stream",
     "text": [
      "[0.95833333 0.80833333 0.76666667 0.78947368 0.64035088]\n"
     ]
    }
   ],
   "source": [
    "print(cv3_scores)"
   ]
  },
  {
   "cell_type": "code",
   "execution_count": 77,
   "metadata": {},
   "outputs": [
    {
     "name": "stdout",
     "output_type": "stream",
     "text": [
      "Accuracy of Model with Cross Validation is: 79.26315789473685\n"
     ]
    }
   ],
   "source": [
    "#get the mean of each fold \n",
    "print(\"Accuracy of Model with Cross Validation is:\",cv3_scores.mean() * 100)"
   ]
  },
  {
   "cell_type": "code",
   "execution_count": null,
   "metadata": {},
   "outputs": [],
   "source": []
  }
 ],
 "metadata": {
  "kernelspec": {
   "display_name": "Python 3",
   "language": "python",
   "name": "python3"
  },
  "language_info": {
   "codemirror_mode": {
    "name": "ipython",
    "version": 3
   },
   "file_extension": ".py",
   "mimetype": "text/x-python",
   "name": "python",
   "nbconvert_exporter": "python",
   "pygments_lexer": "ipython3",
   "version": "3.7.2"
  }
 },
 "nbformat": 4,
 "nbformat_minor": 2
}
