{
 "cells": [
  {
   "cell_type": "code",
   "execution_count": 1,
   "metadata": {},
   "outputs": [],
   "source": [
    "import matplotlib.pyplot as plt\n",
    "import pandas as pd\n",
    "import datetime as dt\n",
    "import os\n",
    "import numpy as np\n",
    "import os\n",
    "import numpy as np\n",
    "import networkx as nx\n",
    "import itertools\n",
    "import copy\n",
    "import datetime, time\n",
    "\n",
    "\n",
    "from timeit import default_timer as timer\n",
    "from sklearn.preprocessing import MinMaxScaler\n",
    "from numpy import array "
   ]
  },
  {
   "cell_type": "code",
   "execution_count": 2,
   "metadata": {},
   "outputs": [],
   "source": [
    "# Set the plotting style\n",
    "# print(plt.style.available)\n",
    "plt.style.use('seaborn-whitegrid')"
   ]
  },
  {
   "cell_type": "code",
   "execution_count": 3,
   "metadata": {},
   "outputs": [],
   "source": [
    "# Import the training set\n",
    "filename = '/Users/Geoff/Desktop/MMAI/CAPSTONE/aragon-all-votes_outcome feature.csv'\n",
    "df = pd.read_csv(filename)"
   ]
  },
  {
   "cell_type": "code",
   "execution_count": 4,
   "metadata": {},
   "outputs": [
    {
     "data": {
      "text/html": [
       "<div>\n",
       "<style scoped>\n",
       "    .dataframe tbody tr th:only-of-type {\n",
       "        vertical-align: middle;\n",
       "    }\n",
       "\n",
       "    .dataframe tbody tr th {\n",
       "        vertical-align: top;\n",
       "    }\n",
       "\n",
       "    .dataframe thead th {\n",
       "        text-align: right;\n",
       "    }\n",
       "</style>\n",
       "<table border=\"1\" class=\"dataframe\">\n",
       "  <thead>\n",
       "    <tr style=\"text-align: right;\">\n",
       "      <th></th>\n",
       "      <th>voting_number</th>\n",
       "      <th>timestamp</th>\n",
       "      <th>voter</th>\n",
       "      <th>vote</th>\n",
       "      <th>staked_ANT_amount</th>\n",
       "      <th>tx</th>\n",
       "      <th>Vote Weight</th>\n",
       "      <th>Result</th>\n",
       "    </tr>\n",
       "  </thead>\n",
       "  <tbody>\n",
       "    <tr>\n",
       "      <th>0</th>\n",
       "      <td>0</td>\n",
       "      <td>2019-01-24T00:05:56.000Z</td>\n",
       "      <td>0x17d38262ceb5317af645a246b0ce6fc4cc3088f6</td>\n",
       "      <td>Yes</td>\n",
       "      <td>249.980000</td>\n",
       "      <td>0x7bffb2e0cf5e1a73bea38565d25821418344269bd144...</td>\n",
       "      <td>249.980000</td>\n",
       "      <td>Yes</td>\n",
       "    </tr>\n",
       "    <tr>\n",
       "      <th>1</th>\n",
       "      <td>0</td>\n",
       "      <td>2019-01-24T01:22:45.000Z</td>\n",
       "      <td>0x2b5afa7a939e475a327c763f725d88e8a92ce342</td>\n",
       "      <td>Yes</td>\n",
       "      <td>1510.761544</td>\n",
       "      <td>0x51947df002e5ac8bb2928e083dfd5d57b9e2ac0bee26...</td>\n",
       "      <td>1510.761544</td>\n",
       "      <td>Yes</td>\n",
       "    </tr>\n",
       "    <tr>\n",
       "      <th>2</th>\n",
       "      <td>0</td>\n",
       "      <td>2019-01-24T02:44:02.000Z</td>\n",
       "      <td>0x839395e20bbb182fa440d08f850e6c7a8f6f0780</td>\n",
       "      <td>Yes</td>\n",
       "      <td>2987.342012</td>\n",
       "      <td>0x3b62bc58824723f7507f4dfd33b7a9e3ff941a6f7cad...</td>\n",
       "      <td>2987.342012</td>\n",
       "      <td>Yes</td>\n",
       "    </tr>\n",
       "    <tr>\n",
       "      <th>3</th>\n",
       "      <td>0</td>\n",
       "      <td>2019-01-24T03:09:50.000Z</td>\n",
       "      <td>0xd472fa32294977196b9ad47e7865e0d737220e32</td>\n",
       "      <td>Yes</td>\n",
       "      <td>5602.726497</td>\n",
       "      <td>0xac26a765b069f9db78c532e07889599e2c855ec9c36b...</td>\n",
       "      <td>5602.726497</td>\n",
       "      <td>Yes</td>\n",
       "    </tr>\n",
       "    <tr>\n",
       "      <th>4</th>\n",
       "      <td>0</td>\n",
       "      <td>2019-01-24T03:10:30.000Z</td>\n",
       "      <td>0xd472fa32294977196b9ad47e7865e0d737220e32</td>\n",
       "      <td>Yes</td>\n",
       "      <td>5602.726497</td>\n",
       "      <td>0x7a620bf8e4f80c0646e2cec6bd9cba108a29e8c17c68...</td>\n",
       "      <td>5602.726497</td>\n",
       "      <td>Yes</td>\n",
       "    </tr>\n",
       "  </tbody>\n",
       "</table>\n",
       "</div>"
      ],
      "text/plain": [
       "   voting_number                 timestamp  \\\n",
       "0              0  2019-01-24T00:05:56.000Z   \n",
       "1              0  2019-01-24T01:22:45.000Z   \n",
       "2              0  2019-01-24T02:44:02.000Z   \n",
       "3              0  2019-01-24T03:09:50.000Z   \n",
       "4              0  2019-01-24T03:10:30.000Z   \n",
       "\n",
       "                                        voter vote  staked_ANT_amount  \\\n",
       "0  0x17d38262ceb5317af645a246b0ce6fc4cc3088f6  Yes         249.980000   \n",
       "1  0x2b5afa7a939e475a327c763f725d88e8a92ce342  Yes        1510.761544   \n",
       "2  0x839395e20bbb182fa440d08f850e6c7a8f6f0780  Yes        2987.342012   \n",
       "3  0xd472fa32294977196b9ad47e7865e0d737220e32  Yes        5602.726497   \n",
       "4  0xd472fa32294977196b9ad47e7865e0d737220e32  Yes        5602.726497   \n",
       "\n",
       "                                                  tx  Vote Weight Result  \n",
       "0  0x7bffb2e0cf5e1a73bea38565d25821418344269bd144...   249.980000    Yes  \n",
       "1  0x51947df002e5ac8bb2928e083dfd5d57b9e2ac0bee26...  1510.761544    Yes  \n",
       "2  0x3b62bc58824723f7507f4dfd33b7a9e3ff941a6f7cad...  2987.342012    Yes  \n",
       "3  0xac26a765b069f9db78c532e07889599e2c855ec9c36b...  5602.726497    Yes  \n",
       "4  0x7a620bf8e4f80c0646e2cec6bd9cba108a29e8c17c68...  5602.726497    Yes  "
      ]
     },
     "execution_count": 4,
     "metadata": {},
     "output_type": "execute_result"
    }
   ],
   "source": [
    "# Inspect Data\n",
    "df.head()"
   ]
  },
  {
   "cell_type": "code",
   "execution_count": 5,
   "metadata": {},
   "outputs": [],
   "source": [
    "df['vote'] = df['vote'].eq('Yes').astype(int)"
   ]
  },
  {
   "cell_type": "code",
   "execution_count": 6,
   "metadata": {},
   "outputs": [],
   "source": [
    "df['Result'] = df['Result'].eq('Yes').astype(int)"
   ]
  },
  {
   "cell_type": "code",
   "execution_count": 7,
   "metadata": {},
   "outputs": [
    {
     "data": {
      "text/html": [
       "<div>\n",
       "<style scoped>\n",
       "    .dataframe tbody tr th:only-of-type {\n",
       "        vertical-align: middle;\n",
       "    }\n",
       "\n",
       "    .dataframe tbody tr th {\n",
       "        vertical-align: top;\n",
       "    }\n",
       "\n",
       "    .dataframe thead th {\n",
       "        text-align: right;\n",
       "    }\n",
       "</style>\n",
       "<table border=\"1\" class=\"dataframe\">\n",
       "  <thead>\n",
       "    <tr style=\"text-align: right;\">\n",
       "      <th></th>\n",
       "      <th>voting_number</th>\n",
       "      <th>timestamp</th>\n",
       "      <th>voter</th>\n",
       "      <th>vote</th>\n",
       "      <th>staked_ANT_amount</th>\n",
       "      <th>tx</th>\n",
       "      <th>Vote Weight</th>\n",
       "      <th>Result</th>\n",
       "    </tr>\n",
       "  </thead>\n",
       "  <tbody>\n",
       "    <tr>\n",
       "      <th>0</th>\n",
       "      <td>0</td>\n",
       "      <td>2019-01-24T00:05:56.000Z</td>\n",
       "      <td>0x17d38262ceb5317af645a246b0ce6fc4cc3088f6</td>\n",
       "      <td>1</td>\n",
       "      <td>249.980000</td>\n",
       "      <td>0x7bffb2e0cf5e1a73bea38565d25821418344269bd144...</td>\n",
       "      <td>249.980000</td>\n",
       "      <td>1</td>\n",
       "    </tr>\n",
       "    <tr>\n",
       "      <th>1</th>\n",
       "      <td>0</td>\n",
       "      <td>2019-01-24T01:22:45.000Z</td>\n",
       "      <td>0x2b5afa7a939e475a327c763f725d88e8a92ce342</td>\n",
       "      <td>1</td>\n",
       "      <td>1510.761544</td>\n",
       "      <td>0x51947df002e5ac8bb2928e083dfd5d57b9e2ac0bee26...</td>\n",
       "      <td>1510.761544</td>\n",
       "      <td>1</td>\n",
       "    </tr>\n",
       "    <tr>\n",
       "      <th>2</th>\n",
       "      <td>0</td>\n",
       "      <td>2019-01-24T02:44:02.000Z</td>\n",
       "      <td>0x839395e20bbb182fa440d08f850e6c7a8f6f0780</td>\n",
       "      <td>1</td>\n",
       "      <td>2987.342012</td>\n",
       "      <td>0x3b62bc58824723f7507f4dfd33b7a9e3ff941a6f7cad...</td>\n",
       "      <td>2987.342012</td>\n",
       "      <td>1</td>\n",
       "    </tr>\n",
       "    <tr>\n",
       "      <th>3</th>\n",
       "      <td>0</td>\n",
       "      <td>2019-01-24T03:09:50.000Z</td>\n",
       "      <td>0xd472fa32294977196b9ad47e7865e0d737220e32</td>\n",
       "      <td>1</td>\n",
       "      <td>5602.726497</td>\n",
       "      <td>0xac26a765b069f9db78c532e07889599e2c855ec9c36b...</td>\n",
       "      <td>5602.726497</td>\n",
       "      <td>1</td>\n",
       "    </tr>\n",
       "    <tr>\n",
       "      <th>4</th>\n",
       "      <td>0</td>\n",
       "      <td>2019-01-24T03:10:30.000Z</td>\n",
       "      <td>0xd472fa32294977196b9ad47e7865e0d737220e32</td>\n",
       "      <td>1</td>\n",
       "      <td>5602.726497</td>\n",
       "      <td>0x7a620bf8e4f80c0646e2cec6bd9cba108a29e8c17c68...</td>\n",
       "      <td>5602.726497</td>\n",
       "      <td>1</td>\n",
       "    </tr>\n",
       "  </tbody>\n",
       "</table>\n",
       "</div>"
      ],
      "text/plain": [
       "   voting_number                 timestamp  \\\n",
       "0              0  2019-01-24T00:05:56.000Z   \n",
       "1              0  2019-01-24T01:22:45.000Z   \n",
       "2              0  2019-01-24T02:44:02.000Z   \n",
       "3              0  2019-01-24T03:09:50.000Z   \n",
       "4              0  2019-01-24T03:10:30.000Z   \n",
       "\n",
       "                                        voter  vote  staked_ANT_amount  \\\n",
       "0  0x17d38262ceb5317af645a246b0ce6fc4cc3088f6     1         249.980000   \n",
       "1  0x2b5afa7a939e475a327c763f725d88e8a92ce342     1        1510.761544   \n",
       "2  0x839395e20bbb182fa440d08f850e6c7a8f6f0780     1        2987.342012   \n",
       "3  0xd472fa32294977196b9ad47e7865e0d737220e32     1        5602.726497   \n",
       "4  0xd472fa32294977196b9ad47e7865e0d737220e32     1        5602.726497   \n",
       "\n",
       "                                                  tx  Vote Weight  Result  \n",
       "0  0x7bffb2e0cf5e1a73bea38565d25821418344269bd144...   249.980000       1  \n",
       "1  0x51947df002e5ac8bb2928e083dfd5d57b9e2ac0bee26...  1510.761544       1  \n",
       "2  0x3b62bc58824723f7507f4dfd33b7a9e3ff941a6f7cad...  2987.342012       1  \n",
       "3  0xac26a765b069f9db78c532e07889599e2c855ec9c36b...  5602.726497       1  \n",
       "4  0x7a620bf8e4f80c0646e2cec6bd9cba108a29e8c17c68...  5602.726497       1  "
      ]
     },
     "execution_count": 7,
     "metadata": {},
     "output_type": "execute_result"
    }
   ],
   "source": [
    "# Inspect Data\n",
    "df.head()"
   ]
  },
  {
   "cell_type": "code",
   "execution_count": 8,
   "metadata": {},
   "outputs": [
    {
     "data": {
      "text/html": [
       "<div>\n",
       "<style scoped>\n",
       "    .dataframe tbody tr th:only-of-type {\n",
       "        vertical-align: middle;\n",
       "    }\n",
       "\n",
       "    .dataframe tbody tr th {\n",
       "        vertical-align: top;\n",
       "    }\n",
       "\n",
       "    .dataframe thead th {\n",
       "        text-align: right;\n",
       "    }\n",
       "</style>\n",
       "<table border=\"1\" class=\"dataframe\">\n",
       "  <thead>\n",
       "    <tr style=\"text-align: right;\">\n",
       "      <th></th>\n",
       "      <th>voting_number</th>\n",
       "      <th>timestamp</th>\n",
       "      <th>voter</th>\n",
       "      <th>vote</th>\n",
       "      <th>staked_ANT_amount</th>\n",
       "      <th>tx</th>\n",
       "      <th>Vote Weight</th>\n",
       "      <th>Result</th>\n",
       "    </tr>\n",
       "  </thead>\n",
       "  <tbody>\n",
       "    <tr>\n",
       "      <th>634</th>\n",
       "      <td>15</td>\n",
       "      <td>2019-04-26T18:24:39.000Z</td>\n",
       "      <td>0xbfc7cae0fad9b346270ae8fde24827d2d779ef07</td>\n",
       "      <td>0</td>\n",
       "      <td>218.40815</td>\n",
       "      <td>0xb57db8c2008420bc67eb2908c2a9caef201e8abcba5d...</td>\n",
       "      <td>-218.40815</td>\n",
       "      <td>1</td>\n",
       "    </tr>\n",
       "    <tr>\n",
       "      <th>635</th>\n",
       "      <td>15</td>\n",
       "      <td>2019-04-26T20:55:28.000Z</td>\n",
       "      <td>0x662127bf82b794a26b7ddb6b495f6a5a20b81738</td>\n",
       "      <td>1</td>\n",
       "      <td>1.00000</td>\n",
       "      <td>0x25a15b7d06e559a93d6719f3399b0b5927c54774862b...</td>\n",
       "      <td>1.00000</td>\n",
       "      <td>1</td>\n",
       "    </tr>\n",
       "    <tr>\n",
       "      <th>636</th>\n",
       "      <td>15</td>\n",
       "      <td>2019-04-27T12:45:02.000Z</td>\n",
       "      <td>0x8b6a9b7c8d8ed99ff02314f779f5a1b7e8474548</td>\n",
       "      <td>1</td>\n",
       "      <td>20000.00000</td>\n",
       "      <td>0x6cbfacf247cc2b1ac87e791d78de6ed05790b2681023...</td>\n",
       "      <td>20000.00000</td>\n",
       "      <td>1</td>\n",
       "    </tr>\n",
       "    <tr>\n",
       "      <th>637</th>\n",
       "      <td>15</td>\n",
       "      <td>2019-04-27T13:41:54.000Z</td>\n",
       "      <td>0xd8265cc1d176a0d734834a0f60d9d2d53bae66f6</td>\n",
       "      <td>1</td>\n",
       "      <td>792191.00000</td>\n",
       "      <td>0x7f92999ef067bb194d92699c6faf3c0111d9791bafdd...</td>\n",
       "      <td>792191.00000</td>\n",
       "      <td>1</td>\n",
       "    </tr>\n",
       "    <tr>\n",
       "      <th>638</th>\n",
       "      <td>15</td>\n",
       "      <td>2019-04-27T14:25:04.000Z</td>\n",
       "      <td>0x1dffdb114e58baedbd25290a1efffa9fc3726d1f</td>\n",
       "      <td>1</td>\n",
       "      <td>3000.00000</td>\n",
       "      <td>0x6181d270f8d2d022fd5d7bee74ead729255d568e21a3...</td>\n",
       "      <td>3000.00000</td>\n",
       "      <td>1</td>\n",
       "    </tr>\n",
       "  </tbody>\n",
       "</table>\n",
       "</div>"
      ],
      "text/plain": [
       "     voting_number                 timestamp  \\\n",
       "634             15  2019-04-26T18:24:39.000Z   \n",
       "635             15  2019-04-26T20:55:28.000Z   \n",
       "636             15  2019-04-27T12:45:02.000Z   \n",
       "637             15  2019-04-27T13:41:54.000Z   \n",
       "638             15  2019-04-27T14:25:04.000Z   \n",
       "\n",
       "                                          voter  vote  staked_ANT_amount  \\\n",
       "634  0xbfc7cae0fad9b346270ae8fde24827d2d779ef07     0          218.40815   \n",
       "635  0x662127bf82b794a26b7ddb6b495f6a5a20b81738     1            1.00000   \n",
       "636  0x8b6a9b7c8d8ed99ff02314f779f5a1b7e8474548     1        20000.00000   \n",
       "637  0xd8265cc1d176a0d734834a0f60d9d2d53bae66f6     1       792191.00000   \n",
       "638  0x1dffdb114e58baedbd25290a1efffa9fc3726d1f     1         3000.00000   \n",
       "\n",
       "                                                    tx   Vote Weight  Result  \n",
       "634  0xb57db8c2008420bc67eb2908c2a9caef201e8abcba5d...    -218.40815       1  \n",
       "635  0x25a15b7d06e559a93d6719f3399b0b5927c54774862b...       1.00000       1  \n",
       "636  0x6cbfacf247cc2b1ac87e791d78de6ed05790b2681023...   20000.00000       1  \n",
       "637  0x7f92999ef067bb194d92699c6faf3c0111d9791bafdd...  792191.00000       1  \n",
       "638  0x6181d270f8d2d022fd5d7bee74ead729255d568e21a3...    3000.00000       1  "
      ]
     },
     "execution_count": 8,
     "metadata": {},
     "output_type": "execute_result"
    }
   ],
   "source": [
    "df.tail()"
   ]
  },
  {
   "cell_type": "code",
   "execution_count": 9,
   "metadata": {},
   "outputs": [],
   "source": [
    "from sklearn.preprocessing import LabelEncoder\n",
    "from sklearn.preprocessing import MinMaxScaler\n",
    "import seaborn as sns"
   ]
  },
  {
   "cell_type": "code",
   "execution_count": 10,
   "metadata": {},
   "outputs": [
    {
     "data": {
      "text/plain": [
       "<seaborn.axisgrid.FacetGrid at 0x1a26115588>"
      ]
     },
     "execution_count": 10,
     "metadata": {},
     "output_type": "execute_result"
    },
    {
     "data": {
      "image/png": "[encoded data removed]",
      "text/plain": [
       "<Figure size 432x216 with 2 Axes>"
      ]
     },
     "metadata": {},
     "output_type": "display_data"
    }
   ],
   "source": [
    "g = sns.FacetGrid(df, col='Result')\n",
    "g.map(plt.hist, 'staked_ANT_amount', bins=20)"
   ]
  },
  {
   "cell_type": "code",
   "execution_count": 11,
   "metadata": {},
   "outputs": [
    {
     "data": {
      "text/plain": [
       "voting_number          int64\n",
       "timestamp             object\n",
       "voter                 object\n",
       "vote                   int64\n",
       "staked_ANT_amount    float64\n",
       "tx                    object\n",
       "Vote Weight          float64\n",
       "Result                 int64\n",
       "dtype: object"
      ]
     },
     "execution_count": 11,
     "metadata": {},
     "output_type": "execute_result"
    }
   ],
   "source": [
    "df.dtypes"
   ]
  },
  {
   "cell_type": "code",
   "execution_count": 12,
   "metadata": {},
   "outputs": [],
   "source": [
    "df['timestamp'] =  pd.to_datetime(df['timestamp'], format='%Y-%m-%dT%H:%M:%S.%f')"
   ]
  },
  {
   "cell_type": "code",
   "execution_count": 13,
   "metadata": {},
   "outputs": [
    {
     "data": {
      "text/plain": [
       "voting_number                 int64\n",
       "timestamp            datetime64[ns]\n",
       "voter                        object\n",
       "vote                          int64\n",
       "staked_ANT_amount           float64\n",
       "tx                           object\n",
       "Vote Weight                 float64\n",
       "Result                        int64\n",
       "dtype: object"
      ]
     },
     "execution_count": 13,
     "metadata": {},
     "output_type": "execute_result"
    }
   ],
   "source": [
    "df.dtypes"
   ]
  },
  {
   "cell_type": "code",
   "execution_count": 14,
   "metadata": {},
   "outputs": [],
   "source": [
    "df['timestamp'] = df['timestamp'].values.astype(np.float)"
   ]
  },
  {
   "cell_type": "code",
   "execution_count": 15,
   "metadata": {},
   "outputs": [
    {
     "data": {
      "text/plain": [
       "voting_number          int64\n",
       "timestamp            float64\n",
       "voter                 object\n",
       "vote                   int64\n",
       "staked_ANT_amount    float64\n",
       "tx                    object\n",
       "Vote Weight          float64\n",
       "Result                 int64\n",
       "dtype: object"
      ]
     },
     "execution_count": 15,
     "metadata": {},
     "output_type": "execute_result"
    }
   ],
   "source": [
    "df.dtypes"
   ]
  },
  {
   "cell_type": "code",
   "execution_count": 16,
   "metadata": {},
   "outputs": [
    {
     "data": {
      "text/html": [
       "<div>\n",
       "<style scoped>\n",
       "    .dataframe tbody tr th:only-of-type {\n",
       "        vertical-align: middle;\n",
       "    }\n",
       "\n",
       "    .dataframe tbody tr th {\n",
       "        vertical-align: top;\n",
       "    }\n",
       "\n",
       "    .dataframe thead th {\n",
       "        text-align: right;\n",
       "    }\n",
       "</style>\n",
       "<table border=\"1\" class=\"dataframe\">\n",
       "  <thead>\n",
       "    <tr style=\"text-align: right;\">\n",
       "      <th></th>\n",
       "      <th>voting_number</th>\n",
       "      <th>timestamp</th>\n",
       "      <th>voter</th>\n",
       "      <th>vote</th>\n",
       "      <th>staked_ANT_amount</th>\n",
       "      <th>tx</th>\n",
       "      <th>Vote Weight</th>\n",
       "      <th>Result</th>\n",
       "    </tr>\n",
       "  </thead>\n",
       "  <tbody>\n",
       "    <tr>\n",
       "      <th>0</th>\n",
       "      <td>0</td>\n",
       "      <td>1.548288e+18</td>\n",
       "      <td>0x17d38262ceb5317af645a246b0ce6fc4cc3088f6</td>\n",
       "      <td>1</td>\n",
       "      <td>249.980000</td>\n",
       "      <td>0x7bffb2e0cf5e1a73bea38565d25821418344269bd144...</td>\n",
       "      <td>249.980000</td>\n",
       "      <td>1</td>\n",
       "    </tr>\n",
       "    <tr>\n",
       "      <th>1</th>\n",
       "      <td>0</td>\n",
       "      <td>1.548293e+18</td>\n",
       "      <td>0x2b5afa7a939e475a327c763f725d88e8a92ce342</td>\n",
       "      <td>1</td>\n",
       "      <td>1510.761544</td>\n",
       "      <td>0x51947df002e5ac8bb2928e083dfd5d57b9e2ac0bee26...</td>\n",
       "      <td>1510.761544</td>\n",
       "      <td>1</td>\n",
       "    </tr>\n",
       "    <tr>\n",
       "      <th>2</th>\n",
       "      <td>0</td>\n",
       "      <td>1.548298e+18</td>\n",
       "      <td>0x839395e20bbb182fa440d08f850e6c7a8f6f0780</td>\n",
       "      <td>1</td>\n",
       "      <td>2987.342012</td>\n",
       "      <td>0x3b62bc58824723f7507f4dfd33b7a9e3ff941a6f7cad...</td>\n",
       "      <td>2987.342012</td>\n",
       "      <td>1</td>\n",
       "    </tr>\n",
       "    <tr>\n",
       "      <th>3</th>\n",
       "      <td>0</td>\n",
       "      <td>1.548299e+18</td>\n",
       "      <td>0xd472fa32294977196b9ad47e7865e0d737220e32</td>\n",
       "      <td>1</td>\n",
       "      <td>5602.726497</td>\n",
       "      <td>0xac26a765b069f9db78c532e07889599e2c855ec9c36b...</td>\n",
       "      <td>5602.726497</td>\n",
       "      <td>1</td>\n",
       "    </tr>\n",
       "    <tr>\n",
       "      <th>4</th>\n",
       "      <td>0</td>\n",
       "      <td>1.548299e+18</td>\n",
       "      <td>0xd472fa32294977196b9ad47e7865e0d737220e32</td>\n",
       "      <td>1</td>\n",
       "      <td>5602.726497</td>\n",
       "      <td>0x7a620bf8e4f80c0646e2cec6bd9cba108a29e8c17c68...</td>\n",
       "      <td>5602.726497</td>\n",
       "      <td>1</td>\n",
       "    </tr>\n",
       "  </tbody>\n",
       "</table>\n",
       "</div>"
      ],
      "text/plain": [
       "   voting_number     timestamp                                       voter  \\\n",
       "0              0  1.548288e+18  0x17d38262ceb5317af645a246b0ce6fc4cc3088f6   \n",
       "1              0  1.548293e+18  0x2b5afa7a939e475a327c763f725d88e8a92ce342   \n",
       "2              0  1.548298e+18  0x839395e20bbb182fa440d08f850e6c7a8f6f0780   \n",
       "3              0  1.548299e+18  0xd472fa32294977196b9ad47e7865e0d737220e32   \n",
       "4              0  1.548299e+18  0xd472fa32294977196b9ad47e7865e0d737220e32   \n",
       "\n",
       "   vote  staked_ANT_amount                                                 tx  \\\n",
       "0     1         249.980000  0x7bffb2e0cf5e1a73bea38565d25821418344269bd144...   \n",
       "1     1        1510.761544  0x51947df002e5ac8bb2928e083dfd5d57b9e2ac0bee26...   \n",
       "2     1        2987.342012  0x3b62bc58824723f7507f4dfd33b7a9e3ff941a6f7cad...   \n",
       "3     1        5602.726497  0xac26a765b069f9db78c532e07889599e2c855ec9c36b...   \n",
       "4     1        5602.726497  0x7a620bf8e4f80c0646e2cec6bd9cba108a29e8c17c68...   \n",
       "\n",
       "   Vote Weight  Result  \n",
       "0   249.980000       1  \n",
       "1  1510.761544       1  \n",
       "2  2987.342012       1  \n",
       "3  5602.726497       1  \n",
       "4  5602.726497       1  "
      ]
     },
     "execution_count": 16,
     "metadata": {},
     "output_type": "execute_result"
    }
   ],
   "source": [
    "df.head()"
   ]
  },
  {
   "cell_type": "code",
   "execution_count": 17,
   "metadata": {},
   "outputs": [
    {
     "data": {
      "text/plain": [
       "<matplotlib.axes._subplots.AxesSubplot at 0x1a2660d6d8>"
      ]
     },
     "execution_count": 17,
     "metadata": {},
     "output_type": "execute_result"
    },
    {
     "data": {
      "image/png": "[encoded data removed]",
      "text/plain": [
       "<Figure size 432x288 with 1 Axes>"
      ]
     },
     "metadata": {},
     "output_type": "display_data"
    }
   ],
   "source": [
    "df.plot(x='timestamp', y='staked_ANT_amount', style='o')"
   ]
  },
  {
   "cell_type": "code",
   "execution_count": 18,
   "metadata": {},
   "outputs": [
    {
     "data": {
      "text/plain": [
       "<seaborn.axisgrid.FacetGrid at 0x1a2669b828>"
      ]
     },
     "execution_count": 18,
     "metadata": {},
     "output_type": "execute_result"
    },
    {
     "data": {
      "image/png": "[encoded data removed]",
      "text/plain": [
       "<Figure size 4608x288 with 16 Axes>"
      ]
     },
     "metadata": {},
     "output_type": "display_data"
    }
   ],
   "source": [
    "graph = sns.FacetGrid(df, col = \"voting_number\", height=4)\n",
    "graph.map(plt.scatter,\"timestamp\",\"staked_ANT_amount\")"
   ]
  },
  {
   "cell_type": "code",
   "execution_count": 19,
   "metadata": {},
   "outputs": [
    {
     "name": "stdout",
     "output_type": "stream",
     "text": [
      "<class 'pandas.core.groupby.groupby.DataFrameGroupBy'>\n"
     ]
    }
   ],
   "source": [
    "#group by vote \n",
    "df_vote  = df.groupby('voting_number')\n",
    "print(type(df_vote))"
   ]
  },
  {
   "cell_type": "code",
   "execution_count": 20,
   "metadata": {},
   "outputs": [],
   "source": [
    "#normalise timestamps across groups\n",
    "\n",
    "df['timestamp_norm'] = df.groupby('voting_number')['timestamp'].apply(lambda x: (x-x.min())/(x.max()-x.min()))"
   ]
  },
  {
   "cell_type": "code",
   "execution_count": 21,
   "metadata": {},
   "outputs": [
    {
     "data": {
      "text/html": [
       "<div>\n",
       "<style scoped>\n",
       "    .dataframe tbody tr th:only-of-type {\n",
       "        vertical-align: middle;\n",
       "    }\n",
       "\n",
       "    .dataframe tbody tr th {\n",
       "        vertical-align: top;\n",
       "    }\n",
       "\n",
       "    .dataframe thead th {\n",
       "        text-align: right;\n",
       "    }\n",
       "</style>\n",
       "<table border=\"1\" class=\"dataframe\">\n",
       "  <thead>\n",
       "    <tr style=\"text-align: right;\">\n",
       "      <th></th>\n",
       "      <th>voting_number</th>\n",
       "      <th>timestamp</th>\n",
       "      <th>voter</th>\n",
       "      <th>vote</th>\n",
       "      <th>staked_ANT_amount</th>\n",
       "      <th>tx</th>\n",
       "      <th>Vote Weight</th>\n",
       "      <th>Result</th>\n",
       "      <th>timestamp_norm</th>\n",
       "    </tr>\n",
       "  </thead>\n",
       "  <tbody>\n",
       "    <tr>\n",
       "      <th>0</th>\n",
       "      <td>0</td>\n",
       "      <td>1.548288e+18</td>\n",
       "      <td>0x17d38262ceb5317af645a246b0ce6fc4cc3088f6</td>\n",
       "      <td>1</td>\n",
       "      <td>249.980000</td>\n",
       "      <td>0x7bffb2e0cf5e1a73bea38565d25821418344269bd144...</td>\n",
       "      <td>249.980000</td>\n",
       "      <td>1</td>\n",
       "      <td>0.000000</td>\n",
       "    </tr>\n",
       "    <tr>\n",
       "      <th>1</th>\n",
       "      <td>0</td>\n",
       "      <td>1.548293e+18</td>\n",
       "      <td>0x2b5afa7a939e475a327c763f725d88e8a92ce342</td>\n",
       "      <td>1</td>\n",
       "      <td>1510.761544</td>\n",
       "      <td>0x51947df002e5ac8bb2928e083dfd5d57b9e2ac0bee26...</td>\n",
       "      <td>1510.761544</td>\n",
       "      <td>1</td>\n",
       "      <td>0.028919</td>\n",
       "    </tr>\n",
       "    <tr>\n",
       "      <th>2</th>\n",
       "      <td>0</td>\n",
       "      <td>1.548298e+18</td>\n",
       "      <td>0x839395e20bbb182fa440d08f850e6c7a8f6f0780</td>\n",
       "      <td>1</td>\n",
       "      <td>2987.342012</td>\n",
       "      <td>0x3b62bc58824723f7507f4dfd33b7a9e3ff941a6f7cad...</td>\n",
       "      <td>2987.342012</td>\n",
       "      <td>1</td>\n",
       "      <td>0.059519</td>\n",
       "    </tr>\n",
       "    <tr>\n",
       "      <th>3</th>\n",
       "      <td>0</td>\n",
       "      <td>1.548299e+18</td>\n",
       "      <td>0xd472fa32294977196b9ad47e7865e0d737220e32</td>\n",
       "      <td>1</td>\n",
       "      <td>5602.726497</td>\n",
       "      <td>0xac26a765b069f9db78c532e07889599e2c855ec9c36b...</td>\n",
       "      <td>5602.726497</td>\n",
       "      <td>1</td>\n",
       "      <td>0.069232</td>\n",
       "    </tr>\n",
       "    <tr>\n",
       "      <th>4</th>\n",
       "      <td>0</td>\n",
       "      <td>1.548299e+18</td>\n",
       "      <td>0xd472fa32294977196b9ad47e7865e0d737220e32</td>\n",
       "      <td>1</td>\n",
       "      <td>5602.726497</td>\n",
       "      <td>0x7a620bf8e4f80c0646e2cec6bd9cba108a29e8c17c68...</td>\n",
       "      <td>5602.726497</td>\n",
       "      <td>1</td>\n",
       "      <td>0.069483</td>\n",
       "    </tr>\n",
       "  </tbody>\n",
       "</table>\n",
       "</div>"
      ],
      "text/plain": [
       "   voting_number     timestamp                                       voter  \\\n",
       "0              0  1.548288e+18  0x17d38262ceb5317af645a246b0ce6fc4cc3088f6   \n",
       "1              0  1.548293e+18  0x2b5afa7a939e475a327c763f725d88e8a92ce342   \n",
       "2              0  1.548298e+18  0x839395e20bbb182fa440d08f850e6c7a8f6f0780   \n",
       "3              0  1.548299e+18  0xd472fa32294977196b9ad47e7865e0d737220e32   \n",
       "4              0  1.548299e+18  0xd472fa32294977196b9ad47e7865e0d737220e32   \n",
       "\n",
       "   vote  staked_ANT_amount                                                 tx  \\\n",
       "0     1         249.980000  0x7bffb2e0cf5e1a73bea38565d25821418344269bd144...   \n",
       "1     1        1510.761544  0x51947df002e5ac8bb2928e083dfd5d57b9e2ac0bee26...   \n",
       "2     1        2987.342012  0x3b62bc58824723f7507f4dfd33b7a9e3ff941a6f7cad...   \n",
       "3     1        5602.726497  0xac26a765b069f9db78c532e07889599e2c855ec9c36b...   \n",
       "4     1        5602.726497  0x7a620bf8e4f80c0646e2cec6bd9cba108a29e8c17c68...   \n",
       "\n",
       "   Vote Weight  Result  timestamp_norm  \n",
       "0   249.980000       1        0.000000  \n",
       "1  1510.761544       1        0.028919  \n",
       "2  2987.342012       1        0.059519  \n",
       "3  5602.726497       1        0.069232  \n",
       "4  5602.726497       1        0.069483  "
      ]
     },
     "execution_count": 21,
     "metadata": {},
     "output_type": "execute_result"
    }
   ],
   "source": [
    "df.head()"
   ]
  },
  {
   "cell_type": "code",
   "execution_count": 22,
   "metadata": {},
   "outputs": [
    {
     "data": {
      "text/plain": [
       "<seaborn.axisgrid.FacetGrid at 0x1a27298a58>"
      ]
     },
     "execution_count": 22,
     "metadata": {},
     "output_type": "execute_result"
    },
    {
     "data": {
      "image/png": "[encoded data removed]",
      "text/plain": [
       "<Figure size 4608x288 with 16 Axes>"
      ]
     },
     "metadata": {},
     "output_type": "display_data"
    }
   ],
   "source": [
    "graph = sns.FacetGrid(df, col = \"voting_number\", height=4)\n",
    "graph.map(plt.scatter,\"timestamp_norm\",\"staked_ANT_amount\")"
   ]
  },
  {
   "cell_type": "code",
   "execution_count": 23,
   "metadata": {},
   "outputs": [
    {
     "data": {
      "text/plain": [
       "<matplotlib.axes._subplots.AxesSubplot at 0x1a2832a550>"
      ]
     },
     "execution_count": 23,
     "metadata": {},
     "output_type": "execute_result"
    },
    {
     "data": {
      "image/png": "[encoded data removed]",
      "text/plain": [
       "<Figure size 432x288 with 1 Axes>"
      ]
     },
     "metadata": {},
     "output_type": "display_data"
    }
   ],
   "source": [
    "df.plot(x='timestamp_norm', y='staked_ANT_amount', style='o')\n"
   ]
  },
  {
   "cell_type": "code",
   "execution_count": 24,
   "metadata": {},
   "outputs": [],
   "source": [
    "from sklearn.cluster import KMeans"
   ]
  },
  {
   "cell_type": "code",
   "execution_count": 25,
   "metadata": {},
   "outputs": [],
   "source": [
    "vote_cluster = df[['timestamp_norm','staked_ANT_amount']]"
   ]
  },
  {
   "cell_type": "code",
   "execution_count": 26,
   "metadata": {},
   "outputs": [
    {
     "data": {
      "text/html": [
       "<div>\n",
       "<style scoped>\n",
       "    .dataframe tbody tr th:only-of-type {\n",
       "        vertical-align: middle;\n",
       "    }\n",
       "\n",
       "    .dataframe tbody tr th {\n",
       "        vertical-align: top;\n",
       "    }\n",
       "\n",
       "    .dataframe thead th {\n",
       "        text-align: right;\n",
       "    }\n",
       "</style>\n",
       "<table border=\"1\" class=\"dataframe\">\n",
       "  <thead>\n",
       "    <tr style=\"text-align: right;\">\n",
       "      <th></th>\n",
       "      <th>timestamp_norm</th>\n",
       "      <th>staked_ANT_amount</th>\n",
       "    </tr>\n",
       "  </thead>\n",
       "  <tbody>\n",
       "    <tr>\n",
       "      <th>0</th>\n",
       "      <td>0.000000</td>\n",
       "      <td>249.980000</td>\n",
       "    </tr>\n",
       "    <tr>\n",
       "      <th>1</th>\n",
       "      <td>0.028919</td>\n",
       "      <td>1510.761544</td>\n",
       "    </tr>\n",
       "    <tr>\n",
       "      <th>2</th>\n",
       "      <td>0.059519</td>\n",
       "      <td>2987.342012</td>\n",
       "    </tr>\n",
       "    <tr>\n",
       "      <th>3</th>\n",
       "      <td>0.069232</td>\n",
       "      <td>5602.726497</td>\n",
       "    </tr>\n",
       "    <tr>\n",
       "      <th>4</th>\n",
       "      <td>0.069483</td>\n",
       "      <td>5602.726497</td>\n",
       "    </tr>\n",
       "  </tbody>\n",
       "</table>\n",
       "</div>"
      ],
      "text/plain": [
       "   timestamp_norm  staked_ANT_amount\n",
       "0        0.000000         249.980000\n",
       "1        0.028919        1510.761544\n",
       "2        0.059519        2987.342012\n",
       "3        0.069232        5602.726497\n",
       "4        0.069483        5602.726497"
      ]
     },
     "execution_count": 26,
     "metadata": {},
     "output_type": "execute_result"
    }
   ],
   "source": [
    "vote_cluster.head()"
   ]
  },
  {
   "cell_type": "code",
   "execution_count": 27,
   "metadata": {},
   "outputs": [],
   "source": [
    "df['staked_norm'] = df.groupby('voting_number')['staked_ANT_amount'].apply(lambda x: (x-x.min())/(x.max()-x.min()))"
   ]
  },
  {
   "cell_type": "code",
   "execution_count": 28,
   "metadata": {},
   "outputs": [
    {
     "data": {
      "text/plain": [
       "<seaborn.axisgrid.FacetGrid at 0x1a290810f0>"
      ]
     },
     "execution_count": 28,
     "metadata": {},
     "output_type": "execute_result"
    },
    {
     "data": {
      "image/png": "[encoded data removed]",
      "text/plain": [
       "<Figure size 4608x288 with 16 Axes>"
      ]
     },
     "metadata": {},
     "output_type": "display_data"
    }
   ],
   "source": [
    "graph = sns.FacetGrid(df, col = \"voting_number\", height=4)\n",
    "graph.map(plt.scatter,\"timestamp_norm\",\"staked_norm\")"
   ]
  },
  {
   "cell_type": "code",
   "execution_count": 29,
   "metadata": {},
   "outputs": [
    {
     "data": {
      "text/plain": [
       "<matplotlib.axes._subplots.AxesSubplot at 0x1a29a8af98>"
      ]
     },
     "execution_count": 29,
     "metadata": {},
     "output_type": "execute_result"
    },
    {
     "data": {
      "image/png": "[encoded data removed]",
      "text/plain": [
       "<Figure size 432x288 with 1 Axes>"
      ]
     },
     "metadata": {},
     "output_type": "display_data"
    }
   ],
   "source": [
    "df.plot(x='timestamp_norm', y='staked_norm', style='o')"
   ]
  },
  {
   "cell_type": "code",
   "execution_count": 30,
   "metadata": {},
   "outputs": [],
   "source": [
    "votes = df[['timestamp_norm','staked_norm']]"
   ]
  },
  {
   "cell_type": "code",
   "execution_count": 31,
   "metadata": {},
   "outputs": [
    {
     "data": {
      "text/html": [
       "<div>\n",
       "<style scoped>\n",
       "    .dataframe tbody tr th:only-of-type {\n",
       "        vertical-align: middle;\n",
       "    }\n",
       "\n",
       "    .dataframe tbody tr th {\n",
       "        vertical-align: top;\n",
       "    }\n",
       "\n",
       "    .dataframe thead th {\n",
       "        text-align: right;\n",
       "    }\n",
       "</style>\n",
       "<table border=\"1\" class=\"dataframe\">\n",
       "  <thead>\n",
       "    <tr style=\"text-align: right;\">\n",
       "      <th></th>\n",
       "      <th>timestamp_norm</th>\n",
       "      <th>staked_norm</th>\n",
       "    </tr>\n",
       "  </thead>\n",
       "  <tbody>\n",
       "    <tr>\n",
       "      <th>0</th>\n",
       "      <td>0.000000</td>\n",
       "      <td>0.000131</td>\n",
       "    </tr>\n",
       "    <tr>\n",
       "      <th>1</th>\n",
       "      <td>0.028919</td>\n",
       "      <td>0.000790</td>\n",
       "    </tr>\n",
       "    <tr>\n",
       "      <th>2</th>\n",
       "      <td>0.059519</td>\n",
       "      <td>0.001561</td>\n",
       "    </tr>\n",
       "    <tr>\n",
       "      <th>3</th>\n",
       "      <td>0.069232</td>\n",
       "      <td>0.002929</td>\n",
       "    </tr>\n",
       "    <tr>\n",
       "      <th>4</th>\n",
       "      <td>0.069483</td>\n",
       "      <td>0.002929</td>\n",
       "    </tr>\n",
       "  </tbody>\n",
       "</table>\n",
       "</div>"
      ],
      "text/plain": [
       "   timestamp_norm  staked_norm\n",
       "0        0.000000     0.000131\n",
       "1        0.028919     0.000790\n",
       "2        0.059519     0.001561\n",
       "3        0.069232     0.002929\n",
       "4        0.069483     0.002929"
      ]
     },
     "execution_count": 31,
     "metadata": {},
     "output_type": "execute_result"
    }
   ],
   "source": [
    "votes.head()"
   ]
  },
  {
   "cell_type": "code",
   "execution_count": 32,
   "metadata": {},
   "outputs": [
    {
     "name": "stdout",
     "output_type": "stream",
     "text": [
      "78.74233004115283\n"
     ]
    }
   ],
   "source": [
    "#create kmeans object \n",
    "kmeans_1 = KMeans(\n",
    "    n_clusters=1, init = 'random',\n",
    "    n_init=10, max_iter=300,\n",
    "    tol=1e-04, random_state=8)\n",
    "\n",
    "#fit kmeans object to data\n",
    "kmeans_1.fit(votes)\n",
    "\n",
    "#print model intertia\n",
    "print(kmeans_1.inertia_)"
   ]
  },
  {
   "cell_type": "code",
   "execution_count": 33,
   "metadata": {},
   "outputs": [
    {
     "name": "stdout",
     "output_type": "stream",
     "text": [
      "33.16928290627622\n"
     ]
    }
   ],
   "source": [
    "#create kmeans object \n",
    "kmeans_2 = KMeans(\n",
    "    n_clusters=2, init = 'random',\n",
    "    n_init=10, max_iter=300,\n",
    "    tol=1e-04, random_state=8)\n",
    "\n",
    "#fit kmeans object to data\n",
    "kmeans_2.fit(votes)\n",
    "\n",
    "#print model intertia\n",
    "print(kmeans_2.inertia_)"
   ]
  },
  {
   "cell_type": "code",
   "execution_count": 34,
   "metadata": {},
   "outputs": [
    {
     "name": "stdout",
     "output_type": "stream",
     "text": [
      "18.1147636396341\n"
     ]
    }
   ],
   "source": [
    "#create kmeans object \n",
    "kmeans_3 = KMeans(\n",
    "    n_clusters=3, init = 'random',\n",
    "    n_init=10, max_iter=300,\n",
    "    tol=1e-04, random_state=8)\n",
    "\n",
    "#fit kmeans object to data\n",
    "kmeans_3.fit(votes)\n",
    "\n",
    "#print model intertia\n",
    "print(kmeans_3.inertia_)"
   ]
  },
  {
   "cell_type": "code",
   "execution_count": 35,
   "metadata": {},
   "outputs": [
    {
     "name": "stdout",
     "output_type": "stream",
     "text": [
      "7.476667505147999\n"
     ]
    }
   ],
   "source": [
    "#create kmeans object \n",
    "kmeans_4 = KMeans(\n",
    "    n_clusters=4, init = 'random',\n",
    "    n_init=10, max_iter=300,\n",
    "    tol=1e-04, random_state=8)\n",
    "\n",
    "#fit kmeans object to data\n",
    "kmeans_4.fit(votes)\n",
    "\n",
    "#print model intertia\n",
    "print(kmeans_4.inertia_)"
   ]
  },
  {
   "cell_type": "code",
   "execution_count": 36,
   "metadata": {},
   "outputs": [
    {
     "name": "stdout",
     "output_type": "stream",
     "text": [
      "5.2435889599341845\n"
     ]
    }
   ],
   "source": [
    "#create kmeans object \n",
    "kmeans_5 = KMeans(\n",
    "    n_clusters=5, init = 'random',\n",
    "    n_init=10, max_iter=300,\n",
    "    tol=1e-04, random_state=8)\n",
    "\n",
    "#fit kmeans object to data\n",
    "kmeans_5.fit(votes)\n",
    "\n",
    "#print model intertia\n",
    "print(kmeans_5.inertia_)"
   ]
  },
  {
   "cell_type": "code",
   "execution_count": 37,
   "metadata": {},
   "outputs": [
    {
     "name": "stdout",
     "output_type": "stream",
     "text": [
      "4.444884421258443\n"
     ]
    }
   ],
   "source": [
    "#create kmeans object \n",
    "kmeans_6 = KMeans(\n",
    "    n_clusters=6, init = 'random',\n",
    "    n_init=10, max_iter=300,\n",
    "    tol=1e-04, random_state=8)\n",
    "\n",
    "#fit kmeans object to data\n",
    "kmeans_6.fit(votes)\n",
    "\n",
    "#print model intertia\n",
    "print(kmeans_6.inertia_)"
   ]
  },
  {
   "cell_type": "code",
   "execution_count": 38,
   "metadata": {},
   "outputs": [
    {
     "name": "stdout",
     "output_type": "stream",
     "text": [
      "3.7007606669538102\n"
     ]
    }
   ],
   "source": [
    "#create kmeans object \n",
    "kmeans_7 = KMeans(\n",
    "    n_clusters=7, init = 'random',\n",
    "    n_init=10, max_iter=300,\n",
    "    tol=1e-04, random_state=8)\n",
    "\n",
    "#fit kmeans object to data\n",
    "kmeans_7.fit(votes)\n",
    "\n",
    "#print model intertia\n",
    "print(kmeans_7.inertia_)"
   ]
  },
  {
   "cell_type": "code",
   "execution_count": 39,
   "metadata": {},
   "outputs": [
    {
     "name": "stdout",
     "output_type": "stream",
     "text": [
      "2.846200042926898\n"
     ]
    }
   ],
   "source": [
    "#create kmeans object \n",
    "kmeans_8 = KMeans(\n",
    "    n_clusters=8, init = 'random',\n",
    "    n_init=10, max_iter=300,\n",
    "    tol=1e-04, random_state=8)\n",
    "\n",
    "#fit kmeans object to data\n",
    "kmeans_8.fit(votes)\n",
    "\n",
    "#print model intertia\n",
    "print(kmeans_8.inertia_)"
   ]
  },
  {
   "cell_type": "code",
   "execution_count": 40,
   "metadata": {},
   "outputs": [
    {
     "name": "stdout",
     "output_type": "stream",
     "text": [
      "2.380902858707782\n"
     ]
    }
   ],
   "source": [
    "#create kmeans object \n",
    "kmeans_9 = KMeans(\n",
    "    n_clusters=9, init = 'random',\n",
    "    n_init=10, max_iter=300,\n",
    "    tol=1e-04, random_state=8)\n",
    "\n",
    "#fit kmeans object to data\n",
    "kmeans_9.fit(votes)\n",
    "\n",
    "#print model intertia\n",
    "print(kmeans_9.inertia_)"
   ]
  },
  {
   "cell_type": "code",
   "execution_count": 41,
   "metadata": {},
   "outputs": [
    {
     "name": "stdout",
     "output_type": "stream",
     "text": [
      "2.164820037563424\n"
     ]
    }
   ],
   "source": [
    "#create kmeans object \n",
    "kmeans_10 = KMeans(\n",
    "    n_clusters=10, init = 'random',\n",
    "    n_init=10, max_iter=300,\n",
    "    tol=1e-04, random_state=8)\n",
    "\n",
    "#fit kmeans object to data\n",
    "kmeans_10.fit(votes)\n",
    "\n",
    "#print model intertia\n",
    "print(kmeans_10.inertia_)"
   ]
  },
  {
   "cell_type": "code",
   "execution_count": 42,
   "metadata": {},
   "outputs": [
    {
     "data": {
      "image/png": "[encoded data removed]",
      "text/plain": [
       "<Figure size 432x288 with 1 Axes>"
      ]
     },
     "metadata": {},
     "output_type": "display_data"
    }
   ],
   "source": [
    "# calculate distortion for a range of number of cluster\n",
    "distortions = []\n",
    "for i in range(1, 11):\n",
    "    km = KMeans(\n",
    "        n_clusters=i, init='random',\n",
    "        n_init=10, max_iter=300,\n",
    "        tol=1e-04, random_state=0\n",
    "    )\n",
    "    km.fit(votes)\n",
    "    distortions.append(km.inertia_)\n",
    "\n",
    "# plot\n",
    "plt.plot(range(1, 11), distortions, marker='o')\n",
    "plt.xlabel('Number of clusters')\n",
    "plt.ylabel('Distortion')\n",
    "plt.show()\n"
   ]
  },
  {
   "cell_type": "code",
   "execution_count": 43,
   "metadata": {},
   "outputs": [],
   "source": [
    "###KMEANS v2 (Adapted from https://towardsdatascience.com/clustering-algorithms-for-customer-segmentation-af637c6830ac) \n",
    "##Fitting kmeans to the dataset with k=4\n",
    "km4=KMeans(n_clusters=4,init='random', max_iter=300, n_init=10, random_state=0)\n",
    "y_means = km4.fit_predict(votes)"
   ]
  },
  {
   "cell_type": "code",
   "execution_count": 46,
   "metadata": {},
   "outputs": [
    {
     "data": {
      "image/png": "[encoded data removed]",
      "text/plain": [
       "<Figure size 432x288 with 1 Axes>"
      ]
     },
     "metadata": {},
     "output_type": "display_data"
    }
   ],
   "source": [
    "#Visualizing the clusters for k=4\n",
    "plt.scatter(votes.iloc[y_means==0,0],votes.iloc[y_means==0,1],s=50, c='purple',label='Cluster1')\n",
    "plt.scatter(votes.iloc[y_means==1,0],votes.iloc[y_means==1,1],s=50, c='blue',label='Cluster2')\n",
    "plt.scatter(votes.iloc[y_means==2,0],votes.iloc[y_means==2,1],s=50, c='green',label='Cluster3')\n",
    "plt.scatter(votes.iloc[y_means==3,0],votes.iloc[y_means==3,1],s=50, c='cyan',label='Cluster4')\n",
    "plt.scatter(km4.cluster_centers_[:,0], km4.cluster_centers_[:,1],s=200,marker='X', c='red', alpha=0.7, label='Centroids')\n",
    "plt.title('Voter Segments')\n",
    "plt.xlabel('Time of Vote')\n",
    "plt.ylabel('Votes Stake')\n",
    "plt.legend()\n",
    "plt.show()"
   ]
  },
  {
   "cell_type": "code",
   "execution_count": 48,
   "metadata": {},
   "outputs": [],
   "source": [
    "df['cluster'] = pd.Series(y_means, index = df.index)"
   ]
  },
  {
   "cell_type": "code",
   "execution_count": 49,
   "metadata": {},
   "outputs": [
    {
     "data": {
      "text/html": [
       "<div>\n",
       "<style scoped>\n",
       "    .dataframe tbody tr th:only-of-type {\n",
       "        vertical-align: middle;\n",
       "    }\n",
       "\n",
       "    .dataframe tbody tr th {\n",
       "        vertical-align: top;\n",
       "    }\n",
       "\n",
       "    .dataframe thead th {\n",
       "        text-align: right;\n",
       "    }\n",
       "</style>\n",
       "<table border=\"1\" class=\"dataframe\">\n",
       "  <thead>\n",
       "    <tr style=\"text-align: right;\">\n",
       "      <th></th>\n",
       "      <th>voting_number</th>\n",
       "      <th>timestamp</th>\n",
       "      <th>voter</th>\n",
       "      <th>vote</th>\n",
       "      <th>staked_ANT_amount</th>\n",
       "      <th>tx</th>\n",
       "      <th>Vote Weight</th>\n",
       "      <th>Result</th>\n",
       "      <th>timestamp_norm</th>\n",
       "      <th>staked_norm</th>\n",
       "      <th>cluster</th>\n",
       "    </tr>\n",
       "  </thead>\n",
       "  <tbody>\n",
       "    <tr>\n",
       "      <th>0</th>\n",
       "      <td>0</td>\n",
       "      <td>1.548288e+18</td>\n",
       "      <td>0x17d38262ceb5317af645a246b0ce6fc4cc3088f6</td>\n",
       "      <td>1</td>\n",
       "      <td>249.980000</td>\n",
       "      <td>0x7bffb2e0cf5e1a73bea38565d25821418344269bd144...</td>\n",
       "      <td>249.980000</td>\n",
       "      <td>1</td>\n",
       "      <td>0.000000</td>\n",
       "      <td>0.000131</td>\n",
       "      <td>3</td>\n",
       "    </tr>\n",
       "    <tr>\n",
       "      <th>1</th>\n",
       "      <td>0</td>\n",
       "      <td>1.548293e+18</td>\n",
       "      <td>0x2b5afa7a939e475a327c763f725d88e8a92ce342</td>\n",
       "      <td>1</td>\n",
       "      <td>1510.761544</td>\n",
       "      <td>0x51947df002e5ac8bb2928e083dfd5d57b9e2ac0bee26...</td>\n",
       "      <td>1510.761544</td>\n",
       "      <td>1</td>\n",
       "      <td>0.028919</td>\n",
       "      <td>0.000790</td>\n",
       "      <td>3</td>\n",
       "    </tr>\n",
       "    <tr>\n",
       "      <th>2</th>\n",
       "      <td>0</td>\n",
       "      <td>1.548298e+18</td>\n",
       "      <td>0x839395e20bbb182fa440d08f850e6c7a8f6f0780</td>\n",
       "      <td>1</td>\n",
       "      <td>2987.342012</td>\n",
       "      <td>0x3b62bc58824723f7507f4dfd33b7a9e3ff941a6f7cad...</td>\n",
       "      <td>2987.342012</td>\n",
       "      <td>1</td>\n",
       "      <td>0.059519</td>\n",
       "      <td>0.001561</td>\n",
       "      <td>3</td>\n",
       "    </tr>\n",
       "    <tr>\n",
       "      <th>3</th>\n",
       "      <td>0</td>\n",
       "      <td>1.548299e+18</td>\n",
       "      <td>0xd472fa32294977196b9ad47e7865e0d737220e32</td>\n",
       "      <td>1</td>\n",
       "      <td>5602.726497</td>\n",
       "      <td>0xac26a765b069f9db78c532e07889599e2c855ec9c36b...</td>\n",
       "      <td>5602.726497</td>\n",
       "      <td>1</td>\n",
       "      <td>0.069232</td>\n",
       "      <td>0.002929</td>\n",
       "      <td>3</td>\n",
       "    </tr>\n",
       "    <tr>\n",
       "      <th>4</th>\n",
       "      <td>0</td>\n",
       "      <td>1.548299e+18</td>\n",
       "      <td>0xd472fa32294977196b9ad47e7865e0d737220e32</td>\n",
       "      <td>1</td>\n",
       "      <td>5602.726497</td>\n",
       "      <td>0x7a620bf8e4f80c0646e2cec6bd9cba108a29e8c17c68...</td>\n",
       "      <td>5602.726497</td>\n",
       "      <td>1</td>\n",
       "      <td>0.069483</td>\n",
       "      <td>0.002929</td>\n",
       "      <td>3</td>\n",
       "    </tr>\n",
       "  </tbody>\n",
       "</table>\n",
       "</div>"
      ],
      "text/plain": [
       "   voting_number     timestamp                                       voter  \\\n",
       "0              0  1.548288e+18  0x17d38262ceb5317af645a246b0ce6fc4cc3088f6   \n",
       "1              0  1.548293e+18  0x2b5afa7a939e475a327c763f725d88e8a92ce342   \n",
       "2              0  1.548298e+18  0x839395e20bbb182fa440d08f850e6c7a8f6f0780   \n",
       "3              0  1.548299e+18  0xd472fa32294977196b9ad47e7865e0d737220e32   \n",
       "4              0  1.548299e+18  0xd472fa32294977196b9ad47e7865e0d737220e32   \n",
       "\n",
       "   vote  staked_ANT_amount                                                 tx  \\\n",
       "0     1         249.980000  0x7bffb2e0cf5e1a73bea38565d25821418344269bd144...   \n",
       "1     1        1510.761544  0x51947df002e5ac8bb2928e083dfd5d57b9e2ac0bee26...   \n",
       "2     1        2987.342012  0x3b62bc58824723f7507f4dfd33b7a9e3ff941a6f7cad...   \n",
       "3     1        5602.726497  0xac26a765b069f9db78c532e07889599e2c855ec9c36b...   \n",
       "4     1        5602.726497  0x7a620bf8e4f80c0646e2cec6bd9cba108a29e8c17c68...   \n",
       "\n",
       "   Vote Weight  Result  timestamp_norm  staked_norm  cluster  \n",
       "0   249.980000       1        0.000000     0.000131        3  \n",
       "1  1510.761544       1        0.028919     0.000790        3  \n",
       "2  2987.342012       1        0.059519     0.001561        3  \n",
       "3  5602.726497       1        0.069232     0.002929        3  \n",
       "4  5602.726497       1        0.069483     0.002929        3  "
      ]
     },
     "execution_count": 49,
     "metadata": {},
     "output_type": "execute_result"
    }
   ],
   "source": [
    "df.head()"
   ]
  },
  {
   "cell_type": "code",
   "execution_count": 50,
   "metadata": {},
   "outputs": [
    {
     "data": {
      "text/html": [
       "<div>\n",
       "<style scoped>\n",
       "    .dataframe tbody tr th:only-of-type {\n",
       "        vertical-align: middle;\n",
       "    }\n",
       "\n",
       "    .dataframe tbody tr th {\n",
       "        vertical-align: top;\n",
       "    }\n",
       "\n",
       "    .dataframe thead th {\n",
       "        text-align: right;\n",
       "    }\n",
       "</style>\n",
       "<table border=\"1\" class=\"dataframe\">\n",
       "  <thead>\n",
       "    <tr style=\"text-align: right;\">\n",
       "      <th></th>\n",
       "      <th>voting_number</th>\n",
       "      <th>timestamp</th>\n",
       "      <th>voter</th>\n",
       "      <th>vote</th>\n",
       "      <th>staked_ANT_amount</th>\n",
       "      <th>tx</th>\n",
       "      <th>Vote Weight</th>\n",
       "      <th>Result</th>\n",
       "      <th>timestamp_norm</th>\n",
       "      <th>staked_norm</th>\n",
       "      <th>cluster</th>\n",
       "    </tr>\n",
       "  </thead>\n",
       "  <tbody>\n",
       "    <tr>\n",
       "      <th>634</th>\n",
       "      <td>15</td>\n",
       "      <td>1.556303e+18</td>\n",
       "      <td>0xbfc7cae0fad9b346270ae8fde24827d2d779ef07</td>\n",
       "      <td>0</td>\n",
       "      <td>218.40815</td>\n",
       "      <td>0xb57db8c2008420bc67eb2908c2a9caef201e8abcba5d...</td>\n",
       "      <td>-218.40815</td>\n",
       "      <td>1</td>\n",
       "      <td>0.564496</td>\n",
       "      <td>0.000276</td>\n",
       "      <td>1</td>\n",
       "    </tr>\n",
       "    <tr>\n",
       "      <th>635</th>\n",
       "      <td>15</td>\n",
       "      <td>1.556312e+18</td>\n",
       "      <td>0x662127bf82b794a26b7ddb6b495f6a5a20b81738</td>\n",
       "      <td>1</td>\n",
       "      <td>1.00000</td>\n",
       "      <td>0x25a15b7d06e559a93d6719f3399b0b5927c54774862b...</td>\n",
       "      <td>1.00000</td>\n",
       "      <td>1</td>\n",
       "      <td>0.619211</td>\n",
       "      <td>0.000001</td>\n",
       "      <td>1</td>\n",
       "    </tr>\n",
       "    <tr>\n",
       "      <th>636</th>\n",
       "      <td>15</td>\n",
       "      <td>1.556369e+18</td>\n",
       "      <td>0x8b6a9b7c8d8ed99ff02314f779f5a1b7e8474548</td>\n",
       "      <td>1</td>\n",
       "      <td>20000.00000</td>\n",
       "      <td>0x6cbfacf247cc2b1ac87e791d78de6ed05790b2681023...</td>\n",
       "      <td>20000.00000</td>\n",
       "      <td>1</td>\n",
       "      <td>0.963708</td>\n",
       "      <td>0.025246</td>\n",
       "      <td>2</td>\n",
       "    </tr>\n",
       "    <tr>\n",
       "      <th>637</th>\n",
       "      <td>15</td>\n",
       "      <td>1.556373e+18</td>\n",
       "      <td>0xd8265cc1d176a0d734834a0f60d9d2d53bae66f6</td>\n",
       "      <td>1</td>\n",
       "      <td>792191.00000</td>\n",
       "      <td>0x7f92999ef067bb194d92699c6faf3c0111d9791bafdd...</td>\n",
       "      <td>792191.00000</td>\n",
       "      <td>1</td>\n",
       "      <td>0.984339</td>\n",
       "      <td>1.000000</td>\n",
       "      <td>0</td>\n",
       "    </tr>\n",
       "    <tr>\n",
       "      <th>638</th>\n",
       "      <td>15</td>\n",
       "      <td>1.556375e+18</td>\n",
       "      <td>0x1dffdb114e58baedbd25290a1efffa9fc3726d1f</td>\n",
       "      <td>1</td>\n",
       "      <td>3000.00000</td>\n",
       "      <td>0x6181d270f8d2d022fd5d7bee74ead729255d568e21a3...</td>\n",
       "      <td>3000.00000</td>\n",
       "      <td>1</td>\n",
       "      <td>1.000000</td>\n",
       "      <td>0.003787</td>\n",
       "      <td>2</td>\n",
       "    </tr>\n",
       "  </tbody>\n",
       "</table>\n",
       "</div>"
      ],
      "text/plain": [
       "     voting_number     timestamp                                       voter  \\\n",
       "634             15  1.556303e+18  0xbfc7cae0fad9b346270ae8fde24827d2d779ef07   \n",
       "635             15  1.556312e+18  0x662127bf82b794a26b7ddb6b495f6a5a20b81738   \n",
       "636             15  1.556369e+18  0x8b6a9b7c8d8ed99ff02314f779f5a1b7e8474548   \n",
       "637             15  1.556373e+18  0xd8265cc1d176a0d734834a0f60d9d2d53bae66f6   \n",
       "638             15  1.556375e+18  0x1dffdb114e58baedbd25290a1efffa9fc3726d1f   \n",
       "\n",
       "     vote  staked_ANT_amount  \\\n",
       "634     0          218.40815   \n",
       "635     1            1.00000   \n",
       "636     1        20000.00000   \n",
       "637     1       792191.00000   \n",
       "638     1         3000.00000   \n",
       "\n",
       "                                                    tx   Vote Weight  Result  \\\n",
       "634  0xb57db8c2008420bc67eb2908c2a9caef201e8abcba5d...    -218.40815       1   \n",
       "635  0x25a15b7d06e559a93d6719f3399b0b5927c54774862b...       1.00000       1   \n",
       "636  0x6cbfacf247cc2b1ac87e791d78de6ed05790b2681023...   20000.00000       1   \n",
       "637  0x7f92999ef067bb194d92699c6faf3c0111d9791bafdd...  792191.00000       1   \n",
       "638  0x6181d270f8d2d022fd5d7bee74ead729255d568e21a3...    3000.00000       1   \n",
       "\n",
       "     timestamp_norm  staked_norm  cluster  \n",
       "634        0.564496     0.000276        1  \n",
       "635        0.619211     0.000001        1  \n",
       "636        0.963708     0.025246        2  \n",
       "637        0.984339     1.000000        0  \n",
       "638        1.000000     0.003787        2  "
      ]
     },
     "execution_count": 50,
     "metadata": {},
     "output_type": "execute_result"
    }
   ],
   "source": [
    "df.tail()"
   ]
  },
  {
   "cell_type": "code",
   "execution_count": 51,
   "metadata": {},
   "outputs": [],
   "source": [
    "df.to_csv(r'/Users/Geoff/Desktop/MMAI/CAPSTONE/aragon-all-votes_outcome featurev3.csv')"
   ]
  },
  {
   "cell_type": "code",
   "execution_count": null,
   "metadata": {},
   "outputs": [],
   "source": []
  }
 ],
 "metadata": {
  "kernelspec": {
   "display_name": "Python 3",
   "language": "python",
   "name": "python3"
  },
  "language_info": {
   "codemirror_mode": {
    "name": "ipython",
    "version": 3
   },
   "file_extension": ".py",
   "mimetype": "text/x-python",
   "name": "python",
   "nbconvert_exporter": "python",
   "pygments_lexer": "ipython3",
   "version": "3.7.2"
  }
 },
 "nbformat": 4,
 "nbformat_minor": 2
}
