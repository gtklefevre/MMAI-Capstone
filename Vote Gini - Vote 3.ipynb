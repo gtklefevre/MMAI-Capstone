{
 "cells": [
  {
   "cell_type": "code",
   "execution_count": 1,
   "metadata": {},
   "outputs": [],
   "source": [
    "# Load Packages\n",
    "\n",
    "import matplotlib.pyplot as plt\n",
    "import pandas as pd\n",
    "import datetime as dt\n",
    "import os\n",
    "import numpy as np\n",
    "import os\n",
    "import numpy as np\n",
    "import networkx as nx\n",
    "import itertools\n",
    "import copy\n",
    "import datetime, time\n",
    "\n",
    "\n",
    "from timeit import default_timer as timer\n",
    "from sklearn.preprocessing import MinMaxScaler\n",
    "from numpy import array "
   ]
  },
  {
   "cell_type": "code",
   "execution_count": 2,
   "metadata": {},
   "outputs": [],
   "source": [
    "#Import Dataset\n",
    "\n",
    "filename = '/Users/Geoff/Desktop/MMAI/CAPSTONE/aragon-all-votes_outcome feature.csv'\n",
    "df = pd.read_csv(filename)"
   ]
  },
  {
   "cell_type": "code",
   "execution_count": 3,
   "metadata": {},
   "outputs": [],
   "source": [
    "#Prepare data\n",
    "\n",
    "df['vote'] = df['vote'].eq('Yes').astype(int)\n",
    "df['Result'] = df['Result'].eq('Yes').astype(int)\n",
    "df['timestamp'] =  pd.to_datetime(df['timestamp'], format='%Y-%m-%dT%H:%M:%S.%f')\n",
    "df['timestamp'] = df['timestamp'].values.astype(np.float)"
   ]
  },
  {
   "cell_type": "code",
   "execution_count": 4,
   "metadata": {},
   "outputs": [
    {
     "name": "stdout",
     "output_type": "stream",
     "text": [
      "<class 'pandas.core.groupby.groupby.DataFrameGroupBy'>\n"
     ]
    }
   ],
   "source": [
    "#Normalise data across votes\n",
    "\n",
    "#group by vote \n",
    "df_vote  = df.groupby('voting_number')\n",
    "print(type(df_vote))\n",
    "\n",
    "#normalise timestamps and stake amount across groups\n",
    "df['timestamp_norm'] = df.groupby('voting_number')['timestamp'].apply(lambda x: (x-x.min())/(x.max()-x.min()))\n",
    "df['staked_norm'] = df.groupby('voting_number')['staked_ANT_amount'].apply(lambda x: (x-x.min())/(x.max()-x.min()))"
   ]
  },
  {
   "cell_type": "markdown",
   "metadata": {},
   "source": [
    "# Vote 3 "
   ]
  },
  {
   "cell_type": "code",
   "execution_count": 5,
   "metadata": {},
   "outputs": [],
   "source": [
    "#Get Data From Vote 1 for calulation\n",
    "df = df[(df['voting_number']==2)]"
   ]
  },
  {
   "cell_type": "code",
   "execution_count": 6,
   "metadata": {},
   "outputs": [],
   "source": [
    "votes = df[['timestamp_norm','staked_norm']]"
   ]
  },
  {
   "cell_type": "code",
   "execution_count": 7,
   "metadata": {},
   "outputs": [
    {
     "data": {
      "text/html": [
       "<div>\n",
       "<style scoped>\n",
       "    .dataframe tbody tr th:only-of-type {\n",
       "        vertical-align: middle;\n",
       "    }\n",
       "\n",
       "    .dataframe tbody tr th {\n",
       "        vertical-align: top;\n",
       "    }\n",
       "\n",
       "    .dataframe thead th {\n",
       "        text-align: right;\n",
       "    }\n",
       "</style>\n",
       "<table border=\"1\" class=\"dataframe\">\n",
       "  <thead>\n",
       "    <tr style=\"text-align: right;\">\n",
       "      <th></th>\n",
       "      <th>timestamp_norm</th>\n",
       "      <th>staked_norm</th>\n",
       "    </tr>\n",
       "  </thead>\n",
       "  <tbody>\n",
       "    <tr>\n",
       "      <th>68</th>\n",
       "      <td>0.000000</td>\n",
       "      <td>0.000131</td>\n",
       "    </tr>\n",
       "    <tr>\n",
       "      <th>69</th>\n",
       "      <td>0.027587</td>\n",
       "      <td>0.000790</td>\n",
       "    </tr>\n",
       "    <tr>\n",
       "      <th>70</th>\n",
       "      <td>0.063862</td>\n",
       "      <td>0.001561</td>\n",
       "    </tr>\n",
       "    <tr>\n",
       "      <th>71</th>\n",
       "      <td>0.074417</td>\n",
       "      <td>0.002929</td>\n",
       "    </tr>\n",
       "    <tr>\n",
       "      <th>72</th>\n",
       "      <td>0.102810</td>\n",
       "      <td>0.000114</td>\n",
       "    </tr>\n",
       "    <tr>\n",
       "      <th>73</th>\n",
       "      <td>0.136957</td>\n",
       "      <td>0.000106</td>\n",
       "    </tr>\n",
       "    <tr>\n",
       "      <th>74</th>\n",
       "      <td>0.167739</td>\n",
       "      <td>0.024853</td>\n",
       "    </tr>\n",
       "    <tr>\n",
       "      <th>75</th>\n",
       "      <td>0.196431</td>\n",
       "      <td>0.000270</td>\n",
       "    </tr>\n",
       "    <tr>\n",
       "      <th>76</th>\n",
       "      <td>0.209634</td>\n",
       "      <td>0.000653</td>\n",
       "    </tr>\n",
       "    <tr>\n",
       "      <th>77</th>\n",
       "      <td>0.293913</td>\n",
       "      <td>0.001918</td>\n",
       "    </tr>\n",
       "    <tr>\n",
       "      <th>78</th>\n",
       "      <td>0.349182</td>\n",
       "      <td>0.001307</td>\n",
       "    </tr>\n",
       "    <tr>\n",
       "      <th>79</th>\n",
       "      <td>0.352682</td>\n",
       "      <td>0.052270</td>\n",
       "    </tr>\n",
       "    <tr>\n",
       "      <th>80</th>\n",
       "      <td>0.381596</td>\n",
       "      <td>0.008571</td>\n",
       "    </tr>\n",
       "    <tr>\n",
       "      <th>81</th>\n",
       "      <td>0.383800</td>\n",
       "      <td>0.000127</td>\n",
       "    </tr>\n",
       "    <tr>\n",
       "      <th>82</th>\n",
       "      <td>0.388372</td>\n",
       "      <td>0.310559</td>\n",
       "    </tr>\n",
       "    <tr>\n",
       "      <th>83</th>\n",
       "      <td>0.394513</td>\n",
       "      <td>0.000000</td>\n",
       "    </tr>\n",
       "    <tr>\n",
       "      <th>84</th>\n",
       "      <td>0.426704</td>\n",
       "      <td>0.108509</td>\n",
       "    </tr>\n",
       "    <tr>\n",
       "      <th>85</th>\n",
       "      <td>0.518401</td>\n",
       "      <td>0.003225</td>\n",
       "    </tr>\n",
       "    <tr>\n",
       "      <th>86</th>\n",
       "      <td>0.528765</td>\n",
       "      <td>0.024281</td>\n",
       "    </tr>\n",
       "    <tr>\n",
       "      <th>87</th>\n",
       "      <td>0.538456</td>\n",
       "      <td>0.000052</td>\n",
       "    </tr>\n",
       "    <tr>\n",
       "      <th>88</th>\n",
       "      <td>0.580891</td>\n",
       "      <td>0.002091</td>\n",
       "    </tr>\n",
       "    <tr>\n",
       "      <th>89</th>\n",
       "      <td>0.717505</td>\n",
       "      <td>0.000118</td>\n",
       "    </tr>\n",
       "    <tr>\n",
       "      <th>90</th>\n",
       "      <td>0.722967</td>\n",
       "      <td>0.001097</td>\n",
       "    </tr>\n",
       "    <tr>\n",
       "      <th>91</th>\n",
       "      <td>0.766361</td>\n",
       "      <td>0.010658</td>\n",
       "    </tr>\n",
       "    <tr>\n",
       "      <th>92</th>\n",
       "      <td>0.782885</td>\n",
       "      <td>0.000052</td>\n",
       "    </tr>\n",
       "    <tr>\n",
       "      <th>93</th>\n",
       "      <td>0.818036</td>\n",
       "      <td>0.000007</td>\n",
       "    </tr>\n",
       "    <tr>\n",
       "      <th>94</th>\n",
       "      <td>0.921741</td>\n",
       "      <td>1.000000</td>\n",
       "    </tr>\n",
       "    <tr>\n",
       "      <th>95</th>\n",
       "      <td>0.954599</td>\n",
       "      <td>0.003129</td>\n",
       "    </tr>\n",
       "    <tr>\n",
       "      <th>96</th>\n",
       "      <td>0.969644</td>\n",
       "      <td>0.000114</td>\n",
       "    </tr>\n",
       "    <tr>\n",
       "      <th>97</th>\n",
       "      <td>1.000000</td>\n",
       "      <td>0.004614</td>\n",
       "    </tr>\n",
       "  </tbody>\n",
       "</table>\n",
       "</div>"
      ],
      "text/plain": [
       "    timestamp_norm  staked_norm\n",
       "68        0.000000     0.000131\n",
       "69        0.027587     0.000790\n",
       "70        0.063862     0.001561\n",
       "71        0.074417     0.002929\n",
       "72        0.102810     0.000114\n",
       "73        0.136957     0.000106\n",
       "74        0.167739     0.024853\n",
       "75        0.196431     0.000270\n",
       "76        0.209634     0.000653\n",
       "77        0.293913     0.001918\n",
       "78        0.349182     0.001307\n",
       "79        0.352682     0.052270\n",
       "80        0.381596     0.008571\n",
       "81        0.383800     0.000127\n",
       "82        0.388372     0.310559\n",
       "83        0.394513     0.000000\n",
       "84        0.426704     0.108509\n",
       "85        0.518401     0.003225\n",
       "86        0.528765     0.024281\n",
       "87        0.538456     0.000052\n",
       "88        0.580891     0.002091\n",
       "89        0.717505     0.000118\n",
       "90        0.722967     0.001097\n",
       "91        0.766361     0.010658\n",
       "92        0.782885     0.000052\n",
       "93        0.818036     0.000007\n",
       "94        0.921741     1.000000\n",
       "95        0.954599     0.003129\n",
       "96        0.969644     0.000114\n",
       "97        1.000000     0.004614"
      ]
     },
     "execution_count": 7,
     "metadata": {},
     "output_type": "execute_result"
    }
   ],
   "source": [
    "votes "
   ]
  },
  {
   "cell_type": "code",
   "execution_count": 8,
   "metadata": {},
   "outputs": [],
   "source": [
    "#Calculate the Gini-Coefficient of votes (Adapted from: https://www.kaggle.com/batzner/gini-coefficient-an-intuitive-explanation)\n",
    "\n",
    "time = votes['timestamp_norm'].values\n",
    "staked = votes['staked_norm'].values"
   ]
  },
  {
   "cell_type": "code",
   "execution_count": 9,
   "metadata": {},
   "outputs": [
    {
     "name": "stdout",
     "output_type": "stream",
     "text": [
      "Gini: 0.241, Max. Gini: 0.241, Normalized Gini: 1.000\n"
     ]
    }
   ],
   "source": [
    "#Definie Gini Function\n",
    "\n",
    "def gini(staked, time):\n",
    "    assert (len(staked) == len(time))\n",
    "    all = np.asarray(np.c_[staked, time, np.arange(len(time))], dtype=np.float)\n",
    "    all = all[np.lexsort((all[:, 2], -1 * all[:, 1]))]\n",
    "    totalLosses = all[:, 0].sum()\n",
    "    giniSum = all[:, 0].cumsum().sum() / totalLosses\n",
    "\n",
    "    giniSum -= (len(staked) + 1) / 2.\n",
    "    return giniSum / len(staked)\n",
    "\n",
    "\n",
    "def gini_normalized(staked, time):\n",
    "    return gini(staked, time) / gini(staked, time)\n",
    "\n",
    "gini_time = gini(staked, time)\n",
    "gini_max = gini(staked, time)\n",
    "ngini= gini_normalized(staked, time)\n",
    "print('Gini: %.3f, Max. Gini: %.3f, Normalized Gini: %.3f' % (gini_time, gini_max, ngini))"
   ]
  },
  {
   "cell_type": "code",
   "execution_count": 10,
   "metadata": {},
   "outputs": [
    {
     "name": "stdout",
     "output_type": "stream",
     "text": [
      "Sorted Actual Values [0.00013063673764972245, 0.0007896484039933018, 0.0015614583653128674, 0.0029285222280346665, 0.00011413410303585177, 0.00010575358579742678, 0.024853491466578486, 0.0002704246783639665, 0.0006526685952247724, 0.0019183470442088494, 0.0013073485575465095, 0.052270063437574, 0.00857089644301624, 0.00012719100535369356, 0.3105590615528695, 0.0, 0.10850927918582069, 0.003224992853238421, 0.024281207508950405, 5.224205445612866e-05, 0.002090775621965235, 0.00011825934594607937, 0.0010965953459129978, 0.010658361135599623, 5.224205445612866e-05, 7.132965513555349e-06, 1.0, 0.003128932187446805, 0.00011372695085575042, 0.004613725958755996]\n"
     ]
    }
   ],
   "source": [
    "# Sort the actual values by the staked\n",
    "data = zip(staked, time)\n",
    "sorted_data = sorted(data, key=lambda d: d[1])\n",
    "sorted_actual = [d[0] for d in sorted_data]\n",
    "print('Sorted Actual Values', sorted_actual)"
   ]
  },
  {
   "cell_type": "code",
   "execution_count": 11,
   "metadata": {},
   "outputs": [
    {
     "data": {
      "image/png": "[encoded data removed]",
      "text/plain": [
       "<Figure size 432x288 with 1 Axes>"
      ]
     },
     "metadata": {
      "needs_background": "light"
     },
     "output_type": "display_data"
    }
   ],
   "source": [
    "# Sum up the actual values\n",
    "cumulative_actual = np.cumsum(sorted_actual)\n",
    "cumulative_index = np.arange(1, len(cumulative_actual)+1)\n",
    "\n",
    "plt.plot(cumulative_index, cumulative_actual)\n",
    "plt.xlabel('Cumulative Time of Vote')\n",
    "plt.ylabel('Cumulative Number of Staked votes')\n",
    "plt.show()"
   ]
  },
  {
   "cell_type": "code",
   "execution_count": 12,
   "metadata": {},
   "outputs": [
    {
     "data": {
      "image/png": "[encoded data removed]",
      "text/plain": [
       "<Figure size 432x288 with 1 Axes>"
      ]
     },
     "metadata": {
      "needs_background": "light"
     },
     "output_type": "display_data"
    }
   ],
   "source": [
    "cumulative_actual_votes = cumulative_actual / sum(staked)\n",
    "cumulative_index_time = cumulative_index / len(time)\n",
    "\n",
    "# Add (0, 0) to the plot\n",
    "x_values = [0] + list(cumulative_index_time)\n",
    "y_values = [0] + list(cumulative_actual_votes)\n",
    "\n",
    "# Display the 45° line stacked on top of the y values\n",
    "diagonal = [x - y for (x, y) in zip(x_values, y_values)]\n",
    "\n",
    "plt.stackplot(x_values, y_values, diagonal)\n",
    "plt.xlabel('Cumulative Time of Vote')\n",
    "plt.ylabel('Cumulative Number of Staked votes')\n",
    "plt.show()"
   ]
  },
  {
   "cell_type": "code",
   "execution_count": null,
   "metadata": {},
   "outputs": [],
   "source": []
  }
 ],
 "metadata": {
  "kernelspec": {
   "display_name": "Python 3",
   "language": "python",
   "name": "python3"
  },
  "language_info": {
   "codemirror_mode": {
    "name": "ipython",
    "version": 3
   },
   "file_extension": ".py",
   "mimetype": "text/x-python",
   "name": "python",
   "nbconvert_exporter": "python",
   "pygments_lexer": "ipython3",
   "version": "3.7.2"
  }
 },
 "nbformat": 4,
 "nbformat_minor": 2
}
