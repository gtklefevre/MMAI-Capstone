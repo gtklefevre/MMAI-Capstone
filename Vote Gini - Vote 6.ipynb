{
 "cells": [
  {
   "cell_type": "code",
   "execution_count": 1,
   "metadata": {},
   "outputs": [],
   "source": [
    "# Load Packages\n",
    "\n",
    "import matplotlib.pyplot as plt\n",
    "import pandas as pd\n",
    "import datetime as dt\n",
    "import os\n",
    "import numpy as np\n",
    "import os\n",
    "import numpy as np\n",
    "import networkx as nx\n",
    "import itertools\n",
    "import copy\n",
    "import datetime, time\n",
    "\n",
    "\n",
    "from timeit import default_timer as timer\n",
    "from sklearn.preprocessing import MinMaxScaler\n",
    "from numpy import array "
   ]
  },
  {
   "cell_type": "code",
   "execution_count": 2,
   "metadata": {},
   "outputs": [],
   "source": [
    "#Import Dataset\n",
    "\n",
    "filename = '/Users/Geoff/Desktop/MMAI/CAPSTONE/aragon-all-votes_outcome feature.csv'\n",
    "df = pd.read_csv(filename)"
   ]
  },
  {
   "cell_type": "code",
   "execution_count": 3,
   "metadata": {},
   "outputs": [],
   "source": [
    "#Prepare data\n",
    "\n",
    "df['vote'] = df['vote'].eq('Yes').astype(int)\n",
    "df['Result'] = df['Result'].eq('Yes').astype(int)\n",
    "df['timestamp'] =  pd.to_datetime(df['timestamp'], format='%Y-%m-%dT%H:%M:%S.%f')\n",
    "df['timestamp'] = df['timestamp'].values.astype(np.float)"
   ]
  },
  {
   "cell_type": "code",
   "execution_count": 4,
   "metadata": {},
   "outputs": [
    {
     "name": "stdout",
     "output_type": "stream",
     "text": [
      "<class 'pandas.core.groupby.groupby.DataFrameGroupBy'>\n"
     ]
    }
   ],
   "source": [
    "#Normalise data across votes\n",
    "\n",
    "#group by vote \n",
    "df_vote  = df.groupby('voting_number')\n",
    "print(type(df_vote))\n",
    "\n",
    "#normalise timestamps and stake amount across groups\n",
    "df['timestamp_norm'] = df.groupby('voting_number')['timestamp'].apply(lambda x: (x-x.min())/(x.max()-x.min()))\n",
    "df['staked_norm'] = df.groupby('voting_number')['staked_ANT_amount'].apply(lambda x: (x-x.min())/(x.max()-x.min()))"
   ]
  },
  {
   "cell_type": "markdown",
   "metadata": {},
   "source": [
    "# Vote 6"
   ]
  },
  {
   "cell_type": "code",
   "execution_count": 5,
   "metadata": {},
   "outputs": [],
   "source": [
    "#Get Data From Vote 1 for calulation\n",
    "df = df[(df['voting_number']==5)]"
   ]
  },
  {
   "cell_type": "code",
   "execution_count": 6,
   "metadata": {},
   "outputs": [],
   "source": [
    "votes = df[['timestamp_norm','staked_norm']]"
   ]
  },
  {
   "cell_type": "code",
   "execution_count": 7,
   "metadata": {},
   "outputs": [
    {
     "data": {
      "text/html": [
       "<div>\n",
       "<style scoped>\n",
       "    .dataframe tbody tr th:only-of-type {\n",
       "        vertical-align: middle;\n",
       "    }\n",
       "\n",
       "    .dataframe tbody tr th {\n",
       "        vertical-align: top;\n",
       "    }\n",
       "\n",
       "    .dataframe thead th {\n",
       "        text-align: right;\n",
       "    }\n",
       "</style>\n",
       "<table border=\"1\" class=\"dataframe\">\n",
       "  <thead>\n",
       "    <tr style=\"text-align: right;\">\n",
       "      <th></th>\n",
       "      <th>timestamp_norm</th>\n",
       "      <th>staked_norm</th>\n",
       "    </tr>\n",
       "  </thead>\n",
       "  <tbody>\n",
       "    <tr>\n",
       "      <th>159</th>\n",
       "      <td>0.000000</td>\n",
       "      <td>0.004966</td>\n",
       "    </tr>\n",
       "    <tr>\n",
       "      <th>160</th>\n",
       "      <td>0.000576</td>\n",
       "      <td>0.000421</td>\n",
       "    </tr>\n",
       "    <tr>\n",
       "      <th>161</th>\n",
       "      <td>0.059224</td>\n",
       "      <td>0.005028</td>\n",
       "    </tr>\n",
       "    <tr>\n",
       "      <th>162</th>\n",
       "      <td>0.070664</td>\n",
       "      <td>0.009430</td>\n",
       "    </tr>\n",
       "    <tr>\n",
       "      <th>163</th>\n",
       "      <td>0.102620</td>\n",
       "      <td>0.000368</td>\n",
       "    </tr>\n",
       "    <tr>\n",
       "      <th>164</th>\n",
       "      <td>0.103203</td>\n",
       "      <td>0.000043</td>\n",
       "    </tr>\n",
       "    <tr>\n",
       "      <th>165</th>\n",
       "      <td>0.154298</td>\n",
       "      <td>0.080028</td>\n",
       "    </tr>\n",
       "    <tr>\n",
       "      <th>166</th>\n",
       "      <td>0.197018</td>\n",
       "      <td>0.008086</td>\n",
       "    </tr>\n",
       "    <tr>\n",
       "      <th>167</th>\n",
       "      <td>0.330824</td>\n",
       "      <td>0.168310</td>\n",
       "    </tr>\n",
       "    <tr>\n",
       "      <th>168</th>\n",
       "      <td>0.352634</td>\n",
       "      <td>0.000698</td>\n",
       "    </tr>\n",
       "    <tr>\n",
       "      <th>169</th>\n",
       "      <td>0.358398</td>\n",
       "      <td>0.000410</td>\n",
       "    </tr>\n",
       "    <tr>\n",
       "      <th>170</th>\n",
       "      <td>0.358615</td>\n",
       "      <td>0.027598</td>\n",
       "    </tr>\n",
       "    <tr>\n",
       "      <th>171</th>\n",
       "      <td>0.365779</td>\n",
       "      <td>0.000000</td>\n",
       "    </tr>\n",
       "    <tr>\n",
       "      <th>172</th>\n",
       "      <td>0.481852</td>\n",
       "      <td>0.010384</td>\n",
       "    </tr>\n",
       "    <tr>\n",
       "      <th>173</th>\n",
       "      <td>0.495192</td>\n",
       "      <td>0.078185</td>\n",
       "    </tr>\n",
       "    <tr>\n",
       "      <th>174</th>\n",
       "      <td>0.497538</td>\n",
       "      <td>0.000168</td>\n",
       "    </tr>\n",
       "    <tr>\n",
       "      <th>175</th>\n",
       "      <td>0.540288</td>\n",
       "      <td>0.006732</td>\n",
       "    </tr>\n",
       "    <tr>\n",
       "      <th>176</th>\n",
       "      <td>0.670570</td>\n",
       "      <td>0.003531</td>\n",
       "    </tr>\n",
       "    <tr>\n",
       "      <th>177</th>\n",
       "      <td>0.711596</td>\n",
       "      <td>0.172129</td>\n",
       "    </tr>\n",
       "    <tr>\n",
       "      <th>178</th>\n",
       "      <td>0.712455</td>\n",
       "      <td>0.034320</td>\n",
       "    </tr>\n",
       "    <tr>\n",
       "      <th>179</th>\n",
       "      <td>0.722101</td>\n",
       "      <td>1.000000</td>\n",
       "    </tr>\n",
       "    <tr>\n",
       "      <th>180</th>\n",
       "      <td>0.758498</td>\n",
       "      <td>0.000023</td>\n",
       "    </tr>\n",
       "    <tr>\n",
       "      <th>181</th>\n",
       "      <td>0.908273</td>\n",
       "      <td>0.349400</td>\n",
       "    </tr>\n",
       "    <tr>\n",
       "      <th>182</th>\n",
       "      <td>0.986048</td>\n",
       "      <td>0.000570</td>\n",
       "    </tr>\n",
       "    <tr>\n",
       "      <th>183</th>\n",
       "      <td>1.000000</td>\n",
       "      <td>0.004210</td>\n",
       "    </tr>\n",
       "  </tbody>\n",
       "</table>\n",
       "</div>"
      ],
      "text/plain": [
       "     timestamp_norm  staked_norm\n",
       "159        0.000000     0.004966\n",
       "160        0.000576     0.000421\n",
       "161        0.059224     0.005028\n",
       "162        0.070664     0.009430\n",
       "163        0.102620     0.000368\n",
       "164        0.103203     0.000043\n",
       "165        0.154298     0.080028\n",
       "166        0.197018     0.008086\n",
       "167        0.330824     0.168310\n",
       "168        0.352634     0.000698\n",
       "169        0.358398     0.000410\n",
       "170        0.358615     0.027598\n",
       "171        0.365779     0.000000\n",
       "172        0.481852     0.010384\n",
       "173        0.495192     0.078185\n",
       "174        0.497538     0.000168\n",
       "175        0.540288     0.006732\n",
       "176        0.670570     0.003531\n",
       "177        0.711596     0.172129\n",
       "178        0.712455     0.034320\n",
       "179        0.722101     1.000000\n",
       "180        0.758498     0.000023\n",
       "181        0.908273     0.349400\n",
       "182        0.986048     0.000570\n",
       "183        1.000000     0.004210"
      ]
     },
     "execution_count": 7,
     "metadata": {},
     "output_type": "execute_result"
    }
   ],
   "source": [
    "votes "
   ]
  },
  {
   "cell_type": "code",
   "execution_count": 8,
   "metadata": {},
   "outputs": [],
   "source": [
    "#Calculate the Gini-Coefficient of votes (Adapted from: https://www.kaggle.com/batzner/gini-coefficient-an-intuitive-explanation)\n",
    "\n",
    "time = votes['timestamp_norm'].values\n",
    "staked = votes['staked_norm'].values"
   ]
  },
  {
   "cell_type": "code",
   "execution_count": 9,
   "metadata": {},
   "outputs": [
    {
     "name": "stdout",
     "output_type": "stream",
     "text": [
      "Gini: 0.236, Max. Gini: 0.236, Normalized Gini: 1.000\n"
     ]
    }
   ],
   "source": [
    "#Definie Gini Function\n",
    "\n",
    "def gini(staked, time):\n",
    "    assert (len(staked) == len(time))\n",
    "    all = np.asarray(np.c_[staked, time, np.arange(len(time))], dtype=np.float)\n",
    "    all = all[np.lexsort((all[:, 2], -1 * all[:, 1]))]\n",
    "    totalLosses = all[:, 0].sum()\n",
    "    giniSum = all[:, 0].cumsum().sum() / totalLosses\n",
    "\n",
    "    giniSum -= (len(staked) + 1) / 2.\n",
    "    return giniSum / len(staked)\n",
    "\n",
    "\n",
    "def gini_normalized(staked, time):\n",
    "    return gini(staked, time) / gini(staked, time)\n",
    "\n",
    "gini_time = gini(staked, time)\n",
    "gini_max = gini(staked, time)\n",
    "ngini= gini_normalized(staked, time)\n",
    "print('Gini: %.3f, Max. Gini: %.3f, Normalized Gini: %.3f' % (gini_time, gini_max, ngini))"
   ]
  },
  {
   "cell_type": "code",
   "execution_count": 10,
   "metadata": {},
   "outputs": [
    {
     "name": "stdout",
     "output_type": "stream",
     "text": [
      "Sorted Actual Values [0.004965510913372283, 0.00042065022027213615, 0.005027895040335331, 0.009429839893871896, 0.00036751174628476136, 4.319678102244898e-05, 0.08002822826133325, 0.008085652620605172, 0.1683095742761818, 0.0006983948287213997, 0.0004095549642561004, 0.027598281628491886, 0.0, 0.010384475136911757, 0.07818547424615004, 0.00016821938537199947, 0.006732296303031241, 0.003531036384608322, 0.17212891087505514, 0.03431991674081339, 1.0, 2.2968144860719304e-05, 0.34939981671521153, 0.0005701708249415455, 0.004209661605137052]\n"
     ]
    }
   ],
   "source": [
    "# Sort the actual values by the staked\n",
    "data = zip(staked, time)\n",
    "sorted_data = sorted(data, key=lambda d: d[1])\n",
    "sorted_actual = [d[0] for d in sorted_data]\n",
    "print('Sorted Actual Values', sorted_actual)"
   ]
  },
  {
   "cell_type": "code",
   "execution_count": 11,
   "metadata": {},
   "outputs": [
    {
     "data": {
      "image/png": "[encoded data removed]",
      "text/plain": [
       "<Figure size 432x288 with 1 Axes>"
      ]
     },
     "metadata": {
      "needs_background": "light"
     },
     "output_type": "display_data"
    }
   ],
   "source": [
    "# Sum up the actual values\n",
    "cumulative_actual = np.cumsum(sorted_actual)\n",
    "cumulative_index = np.arange(1, len(cumulative_actual)+1)\n",
    "\n",
    "plt.plot(cumulative_index, cumulative_actual)\n",
    "plt.xlabel('Cumulative Time of Vote')\n",
    "plt.ylabel('Cumulative Number of Staked votes')\n",
    "plt.show()"
   ]
  },
  {
   "cell_type": "code",
   "execution_count": 12,
   "metadata": {},
   "outputs": [
    {
     "data": {
      "image/png": "[encoded data removed]",
      "text/plain": [
       "<Figure size 432x288 with 1 Axes>"
      ]
     },
     "metadata": {
      "needs_background": "light"
     },
     "output_type": "display_data"
    }
   ],
   "source": [
    "cumulative_actual_votes = cumulative_actual / sum(staked)\n",
    "cumulative_index_time = cumulative_index / len(time)\n",
    "\n",
    "# Add (0, 0) to the plot\n",
    "x_values = [0] + list(cumulative_index_time)\n",
    "y_values = [0] + list(cumulative_actual_votes)\n",
    "\n",
    "# Display the 45° line stacked on top of the y values\n",
    "diagonal = [x - y for (x, y) in zip(x_values, y_values)]\n",
    "\n",
    "plt.stackplot(x_values, y_values, diagonal)\n",
    "plt.xlabel('Cumulative Time of Vote')\n",
    "plt.ylabel('Cumulative Number of Staked votes')\n",
    "plt.show()"
   ]
  },
  {
   "cell_type": "code",
   "execution_count": null,
   "metadata": {},
   "outputs": [],
   "source": []
  }
 ],
 "metadata": {
  "kernelspec": {
   "display_name": "Python 3",
   "language": "python",
   "name": "python3"
  },
  "language_info": {
   "codemirror_mode": {
    "name": "ipython",
    "version": 3
   },
   "file_extension": ".py",
   "mimetype": "text/x-python",
   "name": "python",
   "nbconvert_exporter": "python",
   "pygments_lexer": "ipython3",
   "version": "3.7.2"
  }
 },
 "nbformat": 4,
 "nbformat_minor": 2
}
