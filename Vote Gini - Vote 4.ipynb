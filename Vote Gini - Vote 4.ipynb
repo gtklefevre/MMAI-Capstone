{
 "cells": [
  {
   "cell_type": "code",
   "execution_count": 2,
   "metadata": {},
   "outputs": [],
   "source": [
    "# Load Packages\n",
    "\n",
    "import matplotlib.pyplot as plt\n",
    "import pandas as pd\n",
    "import datetime as dt\n",
    "import os\n",
    "import numpy as np\n",
    "import os\n",
    "import numpy as np\n",
    "import networkx as nx\n",
    "import itertools\n",
    "import copy\n",
    "import datetime, time\n",
    "\n",
    "\n",
    "from timeit import default_timer as timer\n",
    "from sklearn.preprocessing import MinMaxScaler\n",
    "from numpy import array "
   ]
  },
  {
   "cell_type": "code",
   "execution_count": 3,
   "metadata": {},
   "outputs": [],
   "source": [
    "#Import Dataset\n",
    "\n",
    "filename = '/Users/Geoff/Desktop/MMAI/CAPSTONE/aragon-all-votes_outcome feature.csv'\n",
    "df = pd.read_csv(filename)"
   ]
  },
  {
   "cell_type": "code",
   "execution_count": 4,
   "metadata": {},
   "outputs": [],
   "source": [
    "#Prepare data\n",
    "\n",
    "df['vote'] = df['vote'].eq('Yes').astype(int)\n",
    "df['Result'] = df['Result'].eq('Yes').astype(int)\n",
    "df['timestamp'] =  pd.to_datetime(df['timestamp'], format='%Y-%m-%dT%H:%M:%S.%f')\n",
    "df['timestamp'] = df['timestamp'].values.astype(np.float)"
   ]
  },
  {
   "cell_type": "code",
   "execution_count": 5,
   "metadata": {},
   "outputs": [
    {
     "name": "stdout",
     "output_type": "stream",
     "text": [
      "<class 'pandas.core.groupby.groupby.DataFrameGroupBy'>\n"
     ]
    }
   ],
   "source": [
    "#Normalise data across votes\n",
    "\n",
    "#group by vote \n",
    "df_vote  = df.groupby('voting_number')\n",
    "print(type(df_vote))\n",
    "\n",
    "#normalise timestamps and stake amount across groups\n",
    "df['timestamp_norm'] = df.groupby('voting_number')['timestamp'].apply(lambda x: (x-x.min())/(x.max()-x.min()))\n",
    "df['staked_norm'] = df.groupby('voting_number')['staked_ANT_amount'].apply(lambda x: (x-x.min())/(x.max()-x.min()))"
   ]
  },
  {
   "cell_type": "markdown",
   "metadata": {},
   "source": [
    "# Vote 4"
   ]
  },
  {
   "cell_type": "code",
   "execution_count": 6,
   "metadata": {},
   "outputs": [],
   "source": [
    "#Get Data From Vote 1 for calulation\n",
    "df = df[(df['voting_number']==3)]"
   ]
  },
  {
   "cell_type": "code",
   "execution_count": 7,
   "metadata": {},
   "outputs": [],
   "source": [
    "votes = df[['timestamp_norm','staked_norm']]"
   ]
  },
  {
   "cell_type": "code",
   "execution_count": 8,
   "metadata": {},
   "outputs": [
    {
     "data": {
      "text/html": [
       "<div>\n",
       "<style scoped>\n",
       "    .dataframe tbody tr th:only-of-type {\n",
       "        vertical-align: middle;\n",
       "    }\n",
       "\n",
       "    .dataframe tbody tr th {\n",
       "        vertical-align: top;\n",
       "    }\n",
       "\n",
       "    .dataframe thead th {\n",
       "        text-align: right;\n",
       "    }\n",
       "</style>\n",
       "<table border=\"1\" class=\"dataframe\">\n",
       "  <thead>\n",
       "    <tr style=\"text-align: right;\">\n",
       "      <th></th>\n",
       "      <th>timestamp_norm</th>\n",
       "      <th>staked_norm</th>\n",
       "    </tr>\n",
       "  </thead>\n",
       "  <tbody>\n",
       "    <tr>\n",
       "      <th>98</th>\n",
       "      <td>0.000000</td>\n",
       "      <td>0.000421</td>\n",
       "    </tr>\n",
       "    <tr>\n",
       "      <th>99</th>\n",
       "      <td>0.064498</td>\n",
       "      <td>0.005028</td>\n",
       "    </tr>\n",
       "    <tr>\n",
       "      <th>100</th>\n",
       "      <td>0.070689</td>\n",
       "      <td>0.009430</td>\n",
       "    </tr>\n",
       "    <tr>\n",
       "      <th>101</th>\n",
       "      <td>0.098904</td>\n",
       "      <td>0.000368</td>\n",
       "    </tr>\n",
       "    <tr>\n",
       "      <th>102</th>\n",
       "      <td>0.158191</td>\n",
       "      <td>0.080028</td>\n",
       "    </tr>\n",
       "    <tr>\n",
       "      <th>103</th>\n",
       "      <td>0.257040</td>\n",
       "      <td>0.000054</td>\n",
       "    </tr>\n",
       "    <tr>\n",
       "      <th>104</th>\n",
       "      <td>0.262666</td>\n",
       "      <td>0.003366</td>\n",
       "    </tr>\n",
       "    <tr>\n",
       "      <th>105</th>\n",
       "      <td>0.334432</td>\n",
       "      <td>0.004210</td>\n",
       "    </tr>\n",
       "    <tr>\n",
       "      <th>106</th>\n",
       "      <td>0.361702</td>\n",
       "      <td>0.027598</td>\n",
       "    </tr>\n",
       "    <tr>\n",
       "      <th>107</th>\n",
       "      <td>0.363862</td>\n",
       "      <td>0.000410</td>\n",
       "    </tr>\n",
       "    <tr>\n",
       "      <th>108</th>\n",
       "      <td>0.367828</td>\n",
       "      <td>1.000000</td>\n",
       "    </tr>\n",
       "    <tr>\n",
       "      <th>109</th>\n",
       "      <td>0.373785</td>\n",
       "      <td>0.000000</td>\n",
       "    </tr>\n",
       "    <tr>\n",
       "      <th>110</th>\n",
       "      <td>0.404340</td>\n",
       "      <td>0.349400</td>\n",
       "    </tr>\n",
       "    <tr>\n",
       "      <th>111</th>\n",
       "      <td>0.410718</td>\n",
       "      <td>0.000633</td>\n",
       "    </tr>\n",
       "    <tr>\n",
       "      <th>112</th>\n",
       "      <td>0.491209</td>\n",
       "      <td>0.010384</td>\n",
       "    </tr>\n",
       "    <tr>\n",
       "      <th>113</th>\n",
       "      <td>0.501366</td>\n",
       "      <td>0.078185</td>\n",
       "    </tr>\n",
       "    <tr>\n",
       "      <th>114</th>\n",
       "      <td>0.538931</td>\n",
       "      <td>0.000048</td>\n",
       "    </tr>\n",
       "    <tr>\n",
       "      <th>115</th>\n",
       "      <td>0.550610</td>\n",
       "      <td>0.006732</td>\n",
       "    </tr>\n",
       "    <tr>\n",
       "      <th>116</th>\n",
       "      <td>0.585082</td>\n",
       "      <td>0.041808</td>\n",
       "    </tr>\n",
       "    <tr>\n",
       "      <th>117</th>\n",
       "      <td>0.599457</td>\n",
       "      <td>0.022415</td>\n",
       "    </tr>\n",
       "    <tr>\n",
       "      <th>118</th>\n",
       "      <td>0.674353</td>\n",
       "      <td>0.150764</td>\n",
       "    </tr>\n",
       "    <tr>\n",
       "      <th>119</th>\n",
       "      <td>0.680544</td>\n",
       "      <td>0.000381</td>\n",
       "    </tr>\n",
       "    <tr>\n",
       "      <th>120</th>\n",
       "      <td>0.684852</td>\n",
       "      <td>0.003531</td>\n",
       "    </tr>\n",
       "    <tr>\n",
       "      <th>121</th>\n",
       "      <td>0.726918</td>\n",
       "      <td>0.034320</td>\n",
       "    </tr>\n",
       "    <tr>\n",
       "      <th>122</th>\n",
       "      <td>0.743243</td>\n",
       "      <td>0.000168</td>\n",
       "    </tr>\n",
       "    <tr>\n",
       "      <th>123</th>\n",
       "      <td>0.775459</td>\n",
       "      <td>0.000023</td>\n",
       "    </tr>\n",
       "    <tr>\n",
       "      <th>124</th>\n",
       "      <td>1.000000</td>\n",
       "      <td>0.000570</td>\n",
       "    </tr>\n",
       "  </tbody>\n",
       "</table>\n",
       "</div>"
      ],
      "text/plain": [
       "     timestamp_norm  staked_norm\n",
       "98         0.000000     0.000421\n",
       "99         0.064498     0.005028\n",
       "100        0.070689     0.009430\n",
       "101        0.098904     0.000368\n",
       "102        0.158191     0.080028\n",
       "103        0.257040     0.000054\n",
       "104        0.262666     0.003366\n",
       "105        0.334432     0.004210\n",
       "106        0.361702     0.027598\n",
       "107        0.363862     0.000410\n",
       "108        0.367828     1.000000\n",
       "109        0.373785     0.000000\n",
       "110        0.404340     0.349400\n",
       "111        0.410718     0.000633\n",
       "112        0.491209     0.010384\n",
       "113        0.501366     0.078185\n",
       "114        0.538931     0.000048\n",
       "115        0.550610     0.006732\n",
       "116        0.585082     0.041808\n",
       "117        0.599457     0.022415\n",
       "118        0.674353     0.150764\n",
       "119        0.680544     0.000381\n",
       "120        0.684852     0.003531\n",
       "121        0.726918     0.034320\n",
       "122        0.743243     0.000168\n",
       "123        0.775459     0.000023\n",
       "124        1.000000     0.000570"
      ]
     },
     "execution_count": 8,
     "metadata": {},
     "output_type": "execute_result"
    }
   ],
   "source": [
    "votes "
   ]
  },
  {
   "cell_type": "code",
   "execution_count": 9,
   "metadata": {},
   "outputs": [],
   "source": [
    "#Calculate the Gini-Coefficient of votes (Adapted from: https://www.kaggle.com/batzner/gini-coefficient-an-intuitive-explanation)\n",
    "\n",
    "time = votes['timestamp_norm'].values\n",
    "staked = votes['staked_norm'].values"
   ]
  },
  {
   "cell_type": "code",
   "execution_count": 10,
   "metadata": {},
   "outputs": [
    {
     "name": "stdout",
     "output_type": "stream",
     "text": [
      "Gini: -0.050, Max. Gini: -0.050, Normalized Gini: 1.000\n"
     ]
    }
   ],
   "source": [
    "#Definie Gini Function\n",
    "\n",
    "def gini(staked, time):\n",
    "    assert (len(staked) == len(time))\n",
    "    all = np.asarray(np.c_[staked, time, np.arange(len(time))], dtype=np.float)\n",
    "    all = all[np.lexsort((all[:, 2], -1 * all[:, 1]))]\n",
    "    totalLosses = all[:, 0].sum()\n",
    "    giniSum = all[:, 0].cumsum().sum() / totalLosses\n",
    "\n",
    "    giniSum -= (len(staked) + 1) / 2.\n",
    "    return giniSum / len(staked)\n",
    "\n",
    "\n",
    "def gini_normalized(staked, time):\n",
    "    return gini(staked, time) / gini(staked, time)\n",
    "\n",
    "gini_time = gini(staked, time)\n",
    "gini_max = gini(staked, time)\n",
    "ngini= gini_normalized(staked, time)\n",
    "print('Gini: %.3f, Max. Gini: %.3f, Normalized Gini: %.3f' % (gini_time, gini_max, ngini))"
   ]
  },
  {
   "cell_type": "code",
   "execution_count": 11,
   "metadata": {},
   "outputs": [
    {
     "name": "stdout",
     "output_type": "stream",
     "text": [
      "Sorted Actual Values [0.00042065022027213615, 0.005027895040335331, 0.009429839893871896, 0.00036751174628476136, 0.08002822826133325, 5.428599054744756e-05, 0.0033660861809574824, 0.004209661605137052, 0.027598281628491886, 0.0004095549642561004, 1.0, 0.0, 0.34939981671521153, 0.0006331073285708649, 0.010384475136911757, 0.07818547424615004, 4.803846783808424e-05, 0.006732296303031241, 0.04180803039636934, 0.02241533537143473, 0.1507635755668723, 0.0003807950260886106, 0.003531036384608322, 0.03431991674081339, 0.00016821938537199947, 2.2968144860719304e-05, 0.0005701708249415455]\n"
     ]
    }
   ],
   "source": [
    "# Sort the actual values by the staked\n",
    "data = zip(staked, time)\n",
    "sorted_data = sorted(data, key=lambda d: d[1])\n",
    "sorted_actual = [d[0] for d in sorted_data]\n",
    "print('Sorted Actual Values', sorted_actual)"
   ]
  },
  {
   "cell_type": "code",
   "execution_count": 12,
   "metadata": {},
   "outputs": [
    {
     "data": {
      "image/png": "[encoded data removed]",
      "text/plain": [
       "<Figure size 432x288 with 1 Axes>"
      ]
     },
     "metadata": {
      "needs_background": "light"
     },
     "output_type": "display_data"
    }
   ],
   "source": [
    "# Sum up the actual values\n",
    "cumulative_actual = np.cumsum(sorted_actual)\n",
    "cumulative_index = np.arange(1, len(cumulative_actual)+1)\n",
    "\n",
    "plt.plot(cumulative_index, cumulative_actual)\n",
    "plt.xlabel('Cumulative Time of Vote')\n",
    "plt.ylabel('Cumulative Number of Staked votes')\n",
    "plt.show()"
   ]
  },
  {
   "cell_type": "code",
   "execution_count": 13,
   "metadata": {},
   "outputs": [
    {
     "data": {
      "image/png": "[encoded data removed]",
      "text/plain": [
       "<Figure size 432x288 with 1 Axes>"
      ]
     },
     "metadata": {
      "needs_background": "light"
     },
     "output_type": "display_data"
    }
   ],
   "source": [
    "cumulative_actual_votes = cumulative_actual / sum(staked)\n",
    "cumulative_index_time = cumulative_index / len(time)\n",
    "\n",
    "# Add (0, 0) to the plot\n",
    "x_values = [0] + list(cumulative_index_time)\n",
    "y_values = [0] + list(cumulative_actual_votes)\n",
    "\n",
    "# Display the 45° line stacked on top of the y values\n",
    "diagonal = [x - y for (x, y) in zip(x_values, y_values)]\n",
    "\n",
    "plt.stackplot(x_values, y_values, diagonal)\n",
    "plt.xlabel('Cumulative Time of Vote')\n",
    "plt.ylabel('Cumulative Number of Staked votes')\n",
    "plt.show()"
   ]
  },
  {
   "cell_type": "code",
   "execution_count": null,
   "metadata": {},
   "outputs": [],
   "source": []
  }
 ],
 "metadata": {
  "kernelspec": {
   "display_name": "Python 3",
   "language": "python",
   "name": "python3"
  },
  "language_info": {
   "codemirror_mode": {
    "name": "ipython",
    "version": 3
   },
   "file_extension": ".py",
   "mimetype": "text/x-python",
   "name": "python",
   "nbconvert_exporter": "python",
   "pygments_lexer": "ipython3",
   "version": "3.7.2"
  }
 },
 "nbformat": 4,
 "nbformat_minor": 2
}
